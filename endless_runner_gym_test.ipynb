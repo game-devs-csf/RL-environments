{
 "cells": [
  {
   "cell_type": "markdown",
   "metadata": {},
   "source": [
    "# Endless Runner Q-table training\n",
    "\n",
    "Heavily inspired on the Q-table Colab notebook from Huggingface's DeepRL course: https://huggingface.co/learn/deep-rl-course/unit2/hands-on\n",
    "\n",
    "(Aquí dejo esto para que no se me olvide. Para correr el ambiente, primero se debe instalar el paquete de GameEnvs, para hacer esto lo que hago es irme a /GameEnvs y corro pip install -e .)"
   ]
  },
  {
   "cell_type": "markdown",
   "metadata": {},
   "source": [
    "## Import the packages"
   ]
  },
  {
   "cell_type": "code",
   "execution_count": 15,
   "metadata": {},
   "outputs": [
    {
     "name": "stdout",
     "output_type": "stream",
     "text": [
      "Obtaining file:///D:/Repository/GameDevsCSF/RL-environments/GameEnvsNote: you may need to restart the kernel to use updated packages.\n",
      "\n",
      "  Preparing metadata (setup.py): started\n",
      "  Preparing metadata (setup.py): finished with status 'done'\n",
      "Installing collected packages: GameEnvs\n",
      "  Attempting uninstall: GameEnvs\n",
      "    Found existing installation: GameEnvs 0.0.1\n",
      "    Uninstalling GameEnvs-0.0.1:\n",
      "      Successfully uninstalled GameEnvs-0.0.1\n",
      "  Running setup.py develop for GameEnvs\n",
      "Successfully installed GameEnvs-0.0.1\n"
     ]
    }
   ],
   "source": [
    "pip install -e GameEnvs"
   ]
  },
  {
   "cell_type": "markdown",
   "metadata": {},
   "source": [
    "By running the next cell, we'll kill the kernel to make sure the installed package is imported correctly."
   ]
  },
  {
   "cell_type": "code",
   "execution_count": 16,
   "metadata": {},
   "outputs": [
    {
     "ename": "",
     "evalue": "",
     "output_type": "error",
     "traceback": [
      "\u001b[1;31mThe Kernel crashed while executing code in the the current cell or a previous cell. Please review the code in the cell(s) to identify a possible cause of the failure. Click <a href='https://aka.ms/vscodeJupyterKernelCrash'>here</a> for more info. View Jupyter <a href='command:jupyter.viewOutput'>log</a> for further details."
     ]
    }
   ],
   "source": [
    "# Restart the kernel after running this cell to make sure that the package is imported correctly.\n",
    "import os\n",
    "os._exit(00)"
   ]
  },
  {
   "cell_type": "markdown",
   "metadata": {},
   "source": [
    "Now we can run the next cell by stopping it and restarting the kernel."
   ]
  },
  {
   "cell_type": "code",
   "execution_count": 1,
   "metadata": {},
   "outputs": [],
   "source": [
    "import gymnasium as gym\n",
    "import GameEnvs\n",
    "import numpy as np\n",
    "import random\n",
    "from tqdm import tqdm\n",
    "import matplotlib.pyplot as plt\n",
    "import pandas as pd"
   ]
  },
  {
   "cell_type": "markdown",
   "metadata": {},
   "source": [
    "## Create the environment"
   ]
  },
  {
   "cell_type": "markdown",
   "metadata": {},
   "source": [
    "The range of distances in this particular environment goes from 50 (player_x - obstacle_width) to 800 (the set screen width)\n",
    "\n",
    "Binning with 76 leads to an array like this: \n",
    "```\n",
    "[ 50.  60.  70.  80.  90. 100. 110. 120. 130. 140. 150. 160. 170. 180.\n",
    " 190. 200. 210. 220. 230. 240. 250. 260. 270. 280. 290. 300. 310. 320.\n",
    " 330. 340. 350. 360. 370. 380. 390. 400. 410. 420. 430. 440. 450. 460.\n",
    " 470. 480. 490. 500. 510. 520. 530. 540. 550. 560. 570. 580. 590. 600.\n",
    " 610. 620. 630. 640. 650. 660. 670. 680. 690. 700. 710. 720. 730. 740.\n",
    " 750. 760. 770. 780. 790. 800.]\n",
    "```"
   ]
  },
  {
   "cell_type": "code",
   "execution_count": 2,
   "metadata": {},
   "outputs": [
    {
     "name": "stderr",
     "output_type": "stream",
     "text": [
      "<frozen importlib._bootstrap>:488: RuntimeWarning: Your system is avx2 capable but pygame was not built with support for it. The performance of some of your blits could be adversely affected. Consider enabling compile time detection with environment variables like PYGAME_DETECT_AVX2=1 if you are compiling without cross compilation.\n"
     ]
    }
   ],
   "source": [
    "bins = 76\n",
    "env = gym.make(\"EndlessRunner-v0\", obstacle_x_bins=bins, render_mode=\"none\")"
   ]
  },
  {
   "cell_type": "markdown",
   "metadata": {},
   "source": [
    "## Understanding our environment"
   ]
  },
  {
   "cell_type": "code",
   "execution_count": 3,
   "metadata": {},
   "outputs": [
    {
     "name": "stdout",
     "output_type": "stream",
     "text": [
      "Action space: Discrete(3)\n",
      "Sample action: 1\n"
     ]
    }
   ],
   "source": [
    "print(\"Action space:\", env.action_space)\n",
    "print(\"Sample action:\", env.action_space.sample())"
   ]
  },
  {
   "cell_type": "markdown",
   "metadata": {},
   "source": [
    "The actions are: do nothing (0), jump (1) or duck (2)"
   ]
  },
  {
   "cell_type": "markdown",
   "metadata": {},
   "source": [
    "## Initialize the Q-table\n",
    "Need to discretize the observations to make the Q-table. The solution seems to be to bin the observations, the question is how.\n",
    "\n",
    "We have the obstacle's x position, the obstacles y positon and the player's y positon.\n",
    "\n",
    "- Obstacle x: Goes from being at x = 800 to x = 50 (behind the player). The bin size could translate into \"how fast\" the agent reacts to having an obstacle in front of it.\n",
    "- Obstacle y: is either on the floor (0) or above the floor (1)."
   ]
  },
  {
   "cell_type": "code",
   "execution_count": 4,
   "metadata": {},
   "outputs": [
    {
     "name": "stdout",
     "output_type": "stream",
     "text": [
      "Observation space: Discrete(609)\n",
      "Sample observation: 541\n"
     ]
    }
   ],
   "source": [
    "print(\"Observation space:\", env.observation_space)\n",
    "print(\"Sample observation:\", env.observation_space.sample())"
   ]
  },
  {
   "cell_type": "code",
   "execution_count": 5,
   "metadata": {},
   "outputs": [
    {
     "name": "stdout",
     "output_type": "stream",
     "text": [
      "There are  3  actions in the action space.\n",
      "There are  609  observations in the observation space.\n"
     ]
    }
   ],
   "source": [
    "action_space = env.action_space.n\n",
    "print(\"There are \", action_space, \" actions in the action space.\")\n",
    "\n",
    "#observation_space = env.observation_space.spaces[0].n * env.observation_space.spaces[1].n \n",
    "observation_space = env.observation_space.n\n",
    "print(\"There are \", observation_space, \" observations in the observation space.\")   "
   ]
  },
  {
   "cell_type": "code",
   "execution_count": 6,
   "metadata": {},
   "outputs": [],
   "source": [
    "def initialize_q_table(state_space, action_space):\n",
    "    q_table = np.zeros([state_space, action_space])\n",
    "    return q_table"
   ]
  },
  {
   "cell_type": "markdown",
   "metadata": {},
   "source": [
    "Here, there's a column for each action and a row for each possible state. The way we'll index the rows is the following: as there's two observations we take from the environment, the obstacle's x position [0, ..., number_of_bins] and its height (0 for floor height and 1 for above floor height), we take the x position's bin index and we add it to the bin size multiplied times the obstacle height (obstacle_x_position_binned_index + number_of_bins * obstacle_height)"
   ]
  },
  {
   "cell_type": "code",
   "execution_count": 7,
   "metadata": {},
   "outputs": [
    {
     "name": "stdout",
     "output_type": "stream",
     "text": [
      "Qtable shape: (609, 3)\n",
      "Qtable: [[0. 0. 0.]\n",
      " [0. 0. 0.]\n",
      " [0. 0. 0.]\n",
      " ...\n",
      " [0. 0. 0.]\n",
      " [0. 0. 0.]\n",
      " [0. 0. 0.]]\n"
     ]
    }
   ],
   "source": [
    "Qtable_runner = initialize_q_table(observation_space, action_space)\n",
    "print(\"Qtable shape:\", Qtable_runner.shape)\n",
    "print(\"Qtable:\", Qtable_runner)"
   ]
  },
  {
   "cell_type": "markdown",
   "metadata": {},
   "source": [
    "### Greedy policy\n",
    "Now we'll define the policy that's going to be used to update our Q-table, which is called a Greedy Policy, this means that we'll always select the action that gives us the biggest reward."
   ]
  },
  {
   "cell_type": "code",
   "execution_count": 8,
   "metadata": {},
   "outputs": [],
   "source": [
    "def greedy_policy(Qtable, state):\n",
    "  # Exploitation: take the action with the highest state, action value\n",
    "  action = np.argmax(Qtable[state][:])\n",
    "\n",
    "  return action"
   ]
  },
  {
   "cell_type": "markdown",
   "metadata": {},
   "source": [
    "### Epsilon Greedy Policy\n",
    "Next is the Epsilon Greedy Policy, that handles the exploration vs exploitation tradeoff during the acting phase of the training.\n",
    "\n",
    "The ɛ is used to determine the probability of selecting a greedy action, the action that we know gives the current highest reward, also known as exploitation or trying a random action, also know as exploration.\n",
    "\n",
    "- With probability 1 - ɛ, we do exploitation.\n",
    "- With probability ɛ, we do exploration.\n",
    "\n",
    "The idea here is that we start reducing the value of epsilon with a given frequency in order to exploit our aquired knowledge as time passes."
   ]
  },
  {
   "cell_type": "code",
   "execution_count": 9,
   "metadata": {},
   "outputs": [],
   "source": [
    "def epsilon_greedy_policy(Qtable, state, epsilon):\n",
    "  # Randomly generate a number between 0 and 1\n",
    "  random_num = random.uniform(0,1)\n",
    "  # if random_num > greater than epsilon --> exploitation\n",
    "  if random_num > epsilon:\n",
    "    # Take the action with the highest value given a state\n",
    "    # np.argmax can be useful here\n",
    "    action = greedy_policy(Qtable, state)\n",
    "  # else --> exploration\n",
    "  else:\n",
    "    action = env.action_space.sample()\n",
    "\n",
    "  return action"
   ]
  },
  {
   "cell_type": "markdown",
   "metadata": {},
   "source": [
    "### Defining hyperparameters\n",
    "Here, we'll define the hyperparameters, which are values that related to the training itself, so things like the number of episodes, learning rate, discount rate, decay rate, etc."
   ]
  },
  {
   "cell_type": "code",
   "execution_count": 10,
   "metadata": {},
   "outputs": [],
   "source": [
    "# Training parameters\n",
    "n_training_episodes = 200000  # Total training episodes\n",
    "learning_rate = 0.4          # Learning rate\n",
    "\n",
    "# Evaluation parameters\n",
    "n_eval_episodes = 100        # Total number of test episodes\n",
    "\n",
    "# Environment parameters\n",
    "env_id = \"EndlessRunner-v0\"     # Name of the environment\n",
    "max_steps = 20000               # Max steps per episode\n",
    "gamma = 0.95                 # Discounting rate\n",
    "eval_seed = []               # The evaluation seed of the environment\n",
    "\n",
    "# Exploration parameters\n",
    "max_epsilon = 1.0             # Exploration probability at start\n",
    "min_epsilon = 0.05            # Minimum exploration probability\n",
    "decay_rate = 0.0005            # Exponential decay rate for exploration prob"
   ]
  },
  {
   "cell_type": "code",
   "execution_count": 11,
   "metadata": {},
   "outputs": [],
   "source": [
    "# Plotting variables\n",
    "rewards_vs_time = pd.DataFrame(columns=['Reward', 'Time', 'Epsilon'])"
   ]
  },
  {
   "cell_type": "markdown",
   "metadata": {},
   "source": [
    "### Training :O\n",
    "Training loop (explanation from HF's course)\n",
    "\n",
    "The training loop goes like this:\n",
    "\n",
    "```\n",
    "For episode in the total of training episodes:\n",
    "\n",
    "Reduce epsilon (since we need less and less exploration)\n",
    "Reset the environment\n",
    "\n",
    "  For step in max timesteps:    \n",
    "    Choose the action At using epsilon greedy policy\n",
    "    Take the action (a) and observe the outcome state(s') and reward (r)\n",
    "    Update the Q-value Q(s,a) using Bellman equation Q(s,a) + lr [R(s,a) + gamma * max Q(s',a') - Q(s,a)]\n",
    "    If done, finish the episode\n",
    "    Our next state is the new state\n",
    "```"
   ]
  },
  {
   "cell_type": "code",
   "execution_count": 12,
   "metadata": {},
   "outputs": [],
   "source": [
    "def train(n_training_episodes, min_epsilon, max_epsilon, decay_rate, env, max_steps, Qtable, rewards_vs_time):\n",
    "  for episode in tqdm(range(n_training_episodes)):\n",
    "    # Reduce epsilon (because we need less and less exploration)\n",
    "    epsilon = min_epsilon + (max_epsilon - min_epsilon)*np.exp(-decay_rate*episode)\n",
    "    # Reset the environment\n",
    "    state, info = env.reset()\n",
    "    step = 0\n",
    "    terminated = False\n",
    "    truncated = False\n",
    "\n",
    "    # repeat\n",
    "    for step in range(max_steps):\n",
    "      # Choose the action At using epsilon greedy policy\n",
    "      action = epsilon_greedy_policy(Qtable, state, epsilon)\n",
    "\n",
    "      # Take action At and observe Rt+1 and St+1\n",
    "      # Take the action (a) and observe the outcome state(s') and reward (r)\n",
    "      new_state, reward, terminated, truncated, info = env.step(action)\n",
    "\n",
    "      # Update Q(s,a):= Q(s,a) + lr [R(s,a) + gamma * max Q(s',a') - Q(s,a)]\n",
    "      Qtable[state][action] = Qtable[state][action] + learning_rate * (reward + gamma * np.max(Qtable[new_state]) - Qtable[state][action])\n",
    "      \n",
    "      # At the end of each episode, append the reward and time to the DataFrame\n",
    "      \n",
    "      # If terminated or truncated finish the episode\n",
    "      if terminated or truncated:\n",
    "        break\n",
    "\n",
    "      # Our next state is the new state\n",
    "      state = new_state\n",
    "    \n",
    "    rewards_vs_time.loc[len(rewards_vs_time)] = {'Reward': info[\"dodges\"], 'Time': episode, 'Epsilon': epsilon}\n",
    "  return Qtable, rewards_vs_time"
   ]
  },
  {
   "cell_type": "markdown",
   "metadata": {},
   "source": [
    "## Train the Q-learning agent"
   ]
  },
  {
   "cell_type": "code",
   "execution_count": 13,
   "metadata": {},
   "outputs": [
    {
     "name": "stderr",
     "output_type": "stream",
     "text": [
      "  0%|          | 0/200000 [00:00<?, ?it/s]c:\\Users\\Prod\\miniconda3\\envs\\rl-lab-dev\\Lib\\site-packages\\gymnasium\\utils\\passive_env_checker.py:233: DeprecationWarning: `np.bool8` is a deprecated alias for `np.bool_`.  (Deprecated NumPy 1.24)\n",
      "  if not isinstance(terminated, (bool, np.bool8)):\n",
      "100%|██████████| 200000/200000 [48:13<00:00, 69.13it/s]  \n"
     ]
    }
   ],
   "source": [
    "Qtable_runner, rewards_vs_time = train(n_training_episodes, min_epsilon, max_epsilon, decay_rate, env, max_steps, Qtable_runner, rewards_vs_time)"
   ]
  },
  {
   "cell_type": "markdown",
   "metadata": {},
   "source": [
    "Let's see our new Q-table"
   ]
  },
  {
   "cell_type": "code",
   "execution_count": 14,
   "metadata": {},
   "outputs": [
    {
     "data": {
      "text/plain": [
       "array([[ 0.        ,  0.        ,  0.        ],\n",
       "       [ 0.        ,  0.        ,  0.        ],\n",
       "       [ 0.        ,  0.        ,  0.        ],\n",
       "       ...,\n",
       "       [-0.00734441, -0.00738467, -0.00703861],\n",
       "       [-0.00669314, -0.00671588, -0.00671997],\n",
       "       [-0.00637277, -0.00635083, -0.00638503]])"
      ]
     },
     "execution_count": 14,
     "metadata": {},
     "output_type": "execute_result"
    }
   ],
   "source": [
    "Qtable_runner"
   ]
  },
  {
   "cell_type": "markdown",
   "metadata": {},
   "source": [
    "### Plotting\n",
    "\n",
    "Now we'll plot important information about the training in order to get important insights about its performance"
   ]
  },
  {
   "cell_type": "code",
   "execution_count": 15,
   "metadata": {},
   "outputs": [
    {
     "data": {
      "application/vnd.jupyter.widget-view+json": {
       "model_id": "4b56b14bac8e4c449ca58cea8b5169ea",
       "version_major": 2,
       "version_minor": 0
      },
      "image/png": "[encoded data removed]",
      "text/html": [
       "\n",
       "            <div style=\"display: inline-block;\">\n",
       "                <div class=\"jupyter-widgets widget-label\" style=\"text-align: center;\">\n",
       "                    Figure\n",
       "                </div>\n",
       "                <img src='data:image/png;base64,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' width=640.0/>\n",
       "            </div>\n",
       "        "
      ],
      "text/plain": [
       "Canvas(toolbar=Toolbar(toolitems=[('Home', 'Reset original view', 'home', 'home'), ('Back', 'Back to previous …"
      ]
     },
     "metadata": {},
     "output_type": "display_data"
    },
    {
     "data": {
      "application/vnd.jupyter.widget-view+json": {
       "model_id": "53697643659c4967ae14895ea0a0d6a4",
       "version_major": 2,
       "version_minor": 0
      },
      "image/png": "[encoded data removed]",
      "text/html": [
       "\n",
       "            <div style=\"display: inline-block;\">\n",
       "                <div class=\"jupyter-widgets widget-label\" style=\"text-align: center;\">\n",
       "                    Figure\n",
       "                </div>\n",
       "                <img src='data:image/png;base64,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' width=640.0/>\n",
       "            </div>\n",
       "        "
      ],
      "text/plain": [
       "Canvas(toolbar=Toolbar(toolitems=[('Home', 'Reset original view', 'home', 'home'), ('Back', 'Back to previous …"
      ]
     },
     "metadata": {},
     "output_type": "display_data"
    }
   ],
   "source": [
    "# Plot the rewards vs time\n",
    "\n",
    "# Create the plot\n",
    "%matplotlib widget\n",
    "plt.ion()\n",
    "\n",
    "# Plot the rewards vs time\n",
    "rewards_vs_time.plot(x='Time', y='Reward', kind='line')\n",
    "# Set the title and labels\n",
    "plt.title('Episode Rewards vs Time')\n",
    "plt.xlabel('Time')\n",
    "plt.ylabel('Reward')\n",
    "\n",
    "# Plot the epsilon vs time\n",
    "rewards_vs_time.plot(x='Time', y='Epsilon', kind='line')\n",
    "# Set the title and labels\n",
    "plt.title('Epsilon vs Time')\n",
    "plt.xlabel('Time')\n",
    "plt.ylabel('Epsilon')\n",
    "\n",
    "# Show the plot\n",
    "plt.show()"
   ]
  },
  {
   "cell_type": "code",
   "execution_count": 16,
   "metadata": {},
   "outputs": [],
   "source": [
    "#np.save(\"Qtable_runner.npy\", Qtable_runner)"
   ]
  },
  {
   "cell_type": "code",
   "execution_count": 17,
   "metadata": {},
   "outputs": [
    {
     "name": "stderr",
     "output_type": "stream",
     "text": [
      "c:\\Users\\Prod\\miniconda3\\envs\\rl-lab-dev\\Lib\\site-packages\\gymnasium\\utils\\passive_env_checker.py:233: DeprecationWarning: `np.bool8` is a deprecated alias for `np.bool_`.  (Deprecated NumPy 1.24)\n",
      "  if not isinstance(terminated, (bool, np.bool8)):\n"
     ]
    }
   ],
   "source": [
    "# Visualize the agent\n",
    "env = gym.make(\"EndlessRunner-v0\", obstacle_x_bins=bins, render_mode=\"human\")\n",
    "env.reset()\n",
    "state, info = env.reset()\n",
    "step = 0\n",
    "terminated = False\n",
    "truncated = False\n",
    "while not terminated and not truncated:\n",
    "    action = greedy_policy(Qtable_runner, state)\n",
    "    state, reward, terminated, truncated, info = env.step(action)\n",
    "    step += 1\n",
    "    # print(\"Step: \", step)\n",
    "    # print(\"Action: \", action)\n",
    "    # print(\"State: \", state)\n",
    "    # print(\"Reward: \", reward)\n",
    "    # print(\"Info: \", info)\n",
    "    env.render()\n",
    "#env.close()"
   ]
  },
  {
   "cell_type": "code",
   "execution_count": 18,
   "metadata": {},
   "outputs": [],
   "source": [
    "#env.close()"
   ]
  }
 ],
 "metadata": {
  "kernelspec": {
   "display_name": "rl-lab-dev",
   "language": "python",
   "name": "python3"
  },
  "language_info": {
   "codemirror_mode": {
    "name": "ipython",
    "version": 3
   },
   "file_extension": ".py",
   "mimetype": "text/x-python",
   "name": "python",
   "nbconvert_exporter": "python",
   "pygments_lexer": "ipython3",
   "version": "3.12.0"
  }
 },
 "nbformat": 4,
 "nbformat_minor": 2
}
