{
 "cells": [
  {
   "cell_type": "markdown",
   "metadata": {},
   "source": [
    "# Endless Runner Q-table training\n",
    "\n",
    "Heavily inspired on the Q-table Colab notebook from Huggingface's DeepRL course: https://huggingface.co/learn/deep-rl-course/unit2/hands-on\n",
    "\n",
    "(Aquí dejo esto para que no se me olvide. Para correr el ambiente, primero se debe instalar el paquete de GameEnvs, para hacer esto lo que hago es irme a /GameEnvs y corro pip install -e .)"
   ]
  },
  {
   "cell_type": "markdown",
   "metadata": {},
   "source": [
    "## Import the packages"
   ]
  },
  {
   "cell_type": "code",
   "execution_count": 2,
   "metadata": {},
   "outputs": [
    {
     "name": "stdout",
     "output_type": "stream",
     "text": [
      "Obtaining file:///D:/Repository/GameDevsCSF/RL-environments/GameEnvs\n",
      "  Preparing metadata (setup.py): started\n",
      "  Preparing metadata (setup.py): finished with status 'done'\n",
      "Installing collected packages: GameEnvs\n",
      "  Attempting uninstall: GameEnvs\n",
      "    Found existing installation: GameEnvs 0.0.1\n",
      "    Uninstalling GameEnvs-0.0.1:\n",
      "      Successfully uninstalled GameEnvs-0.0.1\n",
      "  Running setup.py develop for GameEnvs\n",
      "Successfully installed GameEnvs-0.0.1\n",
      "Note: you may need to restart the kernel to use updated packages.\n"
     ]
    }
   ],
   "source": [
    "pip install -e GameEnvs"
   ]
  },
  {
   "cell_type": "markdown",
   "metadata": {},
   "source": [
    "By running the next cell, we'll kill the kernel to make sure the installed package is imported correctly."
   ]
  },
  {
   "cell_type": "code",
   "execution_count": 3,
   "metadata": {},
   "outputs": [
    {
     "ename": "",
     "evalue": "",
     "output_type": "error",
     "traceback": [
      "\u001b[1;31mThe Kernel crashed while executing code in the the current cell or a previous cell. Please review the code in the cell(s) to identify a possible cause of the failure. Click <a href='https://aka.ms/vscodeJupyterKernelCrash'>here</a> for more info. View Jupyter <a href='command:jupyter.viewOutput'>log</a> for further details."
     ]
    }
   ],
   "source": [
    "# Restart the kernel after running this cell to make sure that the package is imported correctly.\n",
    "import os\n",
    "os._exit(00)"
   ]
  },
  {
   "cell_type": "markdown",
   "metadata": {},
   "source": [
    "Now we can run the next cell by stopping it and restarting the kernel."
   ]
  },
  {
   "cell_type": "code",
   "execution_count": 113,
   "metadata": {},
   "outputs": [],
   "source": [
    "import gymnasium as gym\n",
    "import GameEnvs\n",
    "import numpy as np\n",
    "import random\n",
    "from tqdm import tqdm\n",
    "import matplotlib.pyplot as plt\n",
    "import pandas as pd"
   ]
  },
  {
   "cell_type": "markdown",
   "metadata": {},
   "source": [
    "## Create the environment"
   ]
  },
  {
   "cell_type": "markdown",
   "metadata": {},
   "source": [
    "The range of distances in this particular environment goes from 50 (player_x - obstacle_width) to 800 (the set screen width)\n",
    "\n",
    "Binning with 76 leads to an array like this: \n",
    "```\n",
    "[ 50.  60.  70.  80.  90. 100. 110. 120. 130. 140. 150. 160. 170. 180.\n",
    " 190. 200. 210. 220. 230. 240. 250. 260. 270. 280. 290. 300. 310. 320.\n",
    " 330. 340. 350. 360. 370. 380. 390. 400. 410. 420. 430. 440. 450. 460.\n",
    " 470. 480. 490. 500. 510. 520. 530. 540. 550. 560. 570. 580. 590. 600.\n",
    " 610. 620. 630. 640. 650. 660. 670. 680. 690. 700. 710. 720. 730. 740.\n",
    " 750. 760. 770. 780. 790. 800.]\n",
    "```"
   ]
  },
  {
   "cell_type": "code",
   "execution_count": 114,
   "metadata": {},
   "outputs": [],
   "source": [
    "bins = 76\n",
    "env = gym.make(\"EndlessRunner-v0\", obstacle_x_bins=bins, render_mode=\"none\")"
   ]
  },
  {
   "cell_type": "markdown",
   "metadata": {},
   "source": [
    "## Understanding our environment"
   ]
  },
  {
   "cell_type": "code",
   "execution_count": 115,
   "metadata": {},
   "outputs": [
    {
     "name": "stdout",
     "output_type": "stream",
     "text": [
      "Action space: Discrete(3)\n",
      "Sample action: 1\n"
     ]
    }
   ],
   "source": [
    "print(\"Action space:\", env.action_space)\n",
    "print(\"Sample action:\", env.action_space.sample())"
   ]
  },
  {
   "cell_type": "markdown",
   "metadata": {},
   "source": [
    "The actions are: do nothing (0), jump (1) or duck (2)"
   ]
  },
  {
   "cell_type": "markdown",
   "metadata": {},
   "source": [
    "## Initialize the Q-table\n",
    "Need to discretize the observations to make the Q-table. The solution seems to be to bin the observations, the question is how.\n",
    "\n",
    "We have the obstacle's x position, the obstacles y positon and the player's y positon.\n",
    "\n",
    "- Obstacle x: Goes from being at x = 800 to x = 50 (behind the player). The bin size could translate into \"how fast\" the agent reacts to having an obstacle in front of it.\n",
    "- Obstacle y: is either on the floor (0) or above the floor (1).\n",
    "- The player's current state: on the standing, ducking, jumping and ducking while jumping."
   ]
  },
  {
   "cell_type": "code",
   "execution_count": 116,
   "metadata": {},
   "outputs": [
    {
     "name": "stdout",
     "output_type": "stream",
     "text": [
      "Observation space: Discrete(609)\n",
      "Sample observation: 390\n"
     ]
    }
   ],
   "source": [
    "print(\"Observation space:\", env.observation_space)\n",
    "print(\"Sample observation:\", env.observation_space.sample())"
   ]
  },
  {
   "cell_type": "code",
   "execution_count": 117,
   "metadata": {},
   "outputs": [
    {
     "name": "stdout",
     "output_type": "stream",
     "text": [
      "There are  3  actions in the action space.\n",
      "There are  609  observations in the observation space.\n"
     ]
    }
   ],
   "source": [
    "action_space = env.action_space.n\n",
    "print(\"There are \", action_space, \" actions in the action space.\")\n",
    "\n",
    "#observation_space = env.observation_space.spaces[0].n * env.observation_space.spaces[1].n \n",
    "observation_space = env.observation_space.n\n",
    "print(\"There are \", observation_space, \" observations in the observation space.\")   "
   ]
  },
  {
   "cell_type": "code",
   "execution_count": 118,
   "metadata": {},
   "outputs": [],
   "source": [
    "def initialize_q_table(state_space, action_space):\n",
    "    q_table = np.zeros([state_space, action_space])\n",
    "    return q_table"
   ]
  },
  {
   "cell_type": "markdown",
   "metadata": {},
   "source": [
    "Here, there's a column for each action and a row for each possible state. The way we'll index the rows is the following: as there's two observations we take from the environment, the obstacle's x position [0, ..., number_of_bins] and its height (0 for floor height and 1 for above floor height), we take the x position's bin index and we add it to the bin size multiplied times the obstacle height (obstacle_x_position_binned_index + number_of_bins * obstacle_height)"
   ]
  },
  {
   "cell_type": "code",
   "execution_count": 119,
   "metadata": {},
   "outputs": [
    {
     "name": "stdout",
     "output_type": "stream",
     "text": [
      "Qtable shape: (609, 3)\n",
      "Qtable: [[0. 0. 0.]\n",
      " [0. 0. 0.]\n",
      " [0. 0. 0.]\n",
      " ...\n",
      " [0. 0. 0.]\n",
      " [0. 0. 0.]\n",
      " [0. 0. 0.]]\n"
     ]
    }
   ],
   "source": [
    "Qtable_runner = initialize_q_table(observation_space, action_space)\n",
    "print(\"Qtable shape:\", Qtable_runner.shape)\n",
    "print(\"Qtable:\", Qtable_runner)"
   ]
  },
  {
   "cell_type": "markdown",
   "metadata": {},
   "source": [
    "### Greedy policy\n",
    "Now we'll define the policy that's going to be used to update our Q-table, which is called a Greedy Policy, this means that we'll always select the action that gives us the biggest reward."
   ]
  },
  {
   "cell_type": "code",
   "execution_count": 120,
   "metadata": {},
   "outputs": [],
   "source": [
    "def greedy_policy(Qtable, state):\n",
    "  # Exploitation: take the action with the highest state, action value\n",
    "  action = np.argmax(Qtable[state][:])\n",
    "\n",
    "  return action"
   ]
  },
  {
   "cell_type": "markdown",
   "metadata": {},
   "source": [
    "### Epsilon Greedy Policy\n",
    "Next is the Epsilon Greedy Policy, that handles the exploration vs exploitation tradeoff during the acting phase of the training.\n",
    "\n",
    "The ɛ is used to determine the probability of selecting a greedy action, the action that we know gives the current highest reward, also known as exploitation or trying a random action, also know as exploration.\n",
    "\n",
    "- With probability 1 - ɛ, we do exploitation.\n",
    "- With probability ɛ, we do exploration.\n",
    "\n",
    "The idea here is that we start reducing the value of epsilon with a given frequency in order to exploit our aquired knowledge as time passes."
   ]
  },
  {
   "cell_type": "code",
   "execution_count": 121,
   "metadata": {},
   "outputs": [],
   "source": [
    "def epsilon_greedy_policy(Qtable, state, epsilon):\n",
    "  # Randomly generate a number between 0 and 1\n",
    "  random_num = random.uniform(0,1)\n",
    "  # if random_num > greater than epsilon --> exploitation\n",
    "  if random_num > epsilon:\n",
    "    # Take the action with the highest value given a state\n",
    "    # np.argmax can be useful here\n",
    "    action = greedy_policy(Qtable, state)\n",
    "  # else --> exploration\n",
    "  else:\n",
    "    action = env.action_space.sample()\n",
    "\n",
    "  return action"
   ]
  },
  {
   "cell_type": "markdown",
   "metadata": {},
   "source": [
    "### Defining hyperparameters\n",
    "Here, we'll define the hyperparameters, which are values that related to the training itself, so things like the number of episodes, learning rate, discount rate, decay rate, etc."
   ]
  },
  {
   "cell_type": "code",
   "execution_count": 122,
   "metadata": {},
   "outputs": [],
   "source": [
    "# Training parameters\n",
    "n_training_episodes = 30000  # Total training episodes\n",
    "learning_rate = 0.4          # Learning rate\n",
    "\n",
    "# Evaluation parameters\n",
    "n_eval_episodes = 100        # Total number of test episodes\n",
    "\n",
    "# Environment parameters\n",
    "env_id = \"EndlessRunner-v0\"     # Name of the environment\n",
    "max_steps = 20000               # Max steps per episode\n",
    "gamma = 0.99                 # Discounting rate\n",
    "eval_seed = []               # The evaluation seed of the environment\n",
    "\n",
    "# Exploration parameters\n",
    "max_epsilon = 1.0             # Exploration probability at start\n",
    "min_epsilon = 0.05            # Minimum exploration probability\n",
    "decay_rate = 0.00005            # Exponential decay rate for exploration prob"
   ]
  },
  {
   "cell_type": "code",
   "execution_count": 123,
   "metadata": {},
   "outputs": [],
   "source": [
    "# Plotting variables\n",
    "rewards_vs_time = pd.DataFrame(columns=['Reward', 'Time', 'Epsilon'])\n",
    "dictList = []"
   ]
  },
  {
   "cell_type": "markdown",
   "metadata": {},
   "source": [
    "### Training :O\n",
    "Training loop (explanation from HF's course)\n",
    "\n",
    "The training loop goes like this:\n",
    "\n",
    "```\n",
    "For episode in the total of training episodes:\n",
    "\n",
    "Reduce epsilon (since we need less and less exploration)\n",
    "Reset the environment\n",
    "\n",
    "  For step in max timesteps:    \n",
    "    Choose the action At using epsilon greedy policy\n",
    "    Take the action (a) and observe the outcome state(s') and reward (r)\n",
    "    Update the Q-value Q(s,a) using Bellman equation Q(s,a) + lr [R(s,a) + gamma * max Q(s',a') - Q(s,a)]\n",
    "    If done, finish the episode\n",
    "    Our next state is the new state\n",
    "```"
   ]
  },
  {
   "cell_type": "code",
   "execution_count": 124,
   "metadata": {},
   "outputs": [],
   "source": [
    "def train(n_training_episodes, min_epsilon, max_epsilon, decay_rate, env, max_steps, Qtable, rewards_vs_time, dictList):\n",
    "  for episode in tqdm(range(n_training_episodes)):\n",
    "    # Reduce epsilon (because we need less and less exploration)\n",
    "    epsilon = min_epsilon + (max_epsilon - min_epsilon)*np.exp(-decay_rate*episode)\n",
    "    # Reset the environment\n",
    "    state, info = env.reset()\n",
    "    step = 0\n",
    "    terminated = False\n",
    "    truncated = False\n",
    "    rewards = 0\n",
    "\n",
    "    # repeat\n",
    "    for step in range(max_steps):\n",
    "      # Choose the action At using epsilon greedy policy\n",
    "      action = epsilon_greedy_policy(Qtable, state, epsilon)\n",
    "\n",
    "      # Take action At and observe Rt+1 and St+1\n",
    "      # Take the action (a) and observe the outcome state(s') and reward (r)\n",
    "      new_state, reward, terminated, truncated, info = env.step(action)\n",
    "\n",
    "      # Update Q(s,a):= Q(s,a) + lr [R(s,a) + gamma * max Q(s',a') - Q(s,a)]\n",
    "      Qtable[state][action] = Qtable[state][action] + learning_rate * (reward + gamma * np.max(Qtable[new_state]) - Qtable[state][action])\n",
    "      \n",
    "      # At the end of each episode, append the reward and time to the DataFrame\n",
    "      rewards += reward\n",
    "\n",
    "      # If terminated or truncated finish the episode\n",
    "      if terminated or truncated:\n",
    "        break\n",
    "\n",
    "      # Our next state is the new state\n",
    "      state = new_state\n",
    "    \n",
    "    dictList.append({'Reward': rewards, 'Time': episode, 'Epsilon': epsilon})\n",
    "  return Qtable, rewards_vs_time, dictList"
   ]
  },
  {
   "cell_type": "markdown",
   "metadata": {},
   "source": [
    "## Train the Q-learning agent"
   ]
  },
  {
   "cell_type": "code",
   "execution_count": 125,
   "metadata": {},
   "outputs": [
    {
     "name": "stderr",
     "output_type": "stream",
     "text": [
      "  0%|          | 0/30000 [00:00<?, ?it/s]"
     ]
    },
    {
     "name": "stderr",
     "output_type": "stream",
     "text": [
      "c:\\Users\\Prod\\miniconda3\\envs\\rl-lab-dev\\Lib\\site-packages\\gymnasium\\utils\\passive_env_checker.py:233: DeprecationWarning: `np.bool8` is a deprecated alias for `np.bool_`.  (Deprecated NumPy 1.24)\n",
      "  if not isinstance(terminated, (bool, np.bool8)):\n",
      "100%|██████████| 30000/30000 [04:24<00:00, 113.45it/s]\n"
     ]
    }
   ],
   "source": [
    "Qtable_runner, rewards_vs_time, dictList = train(n_training_episodes, min_epsilon, max_epsilon, decay_rate, env, max_steps, Qtable_runner, rewards_vs_time, dictList)"
   ]
  },
  {
   "cell_type": "markdown",
   "metadata": {},
   "source": [
    "Let's see our new Q-table"
   ]
  },
  {
   "cell_type": "code",
   "execution_count": 126,
   "metadata": {},
   "outputs": [
    {
     "data": {
      "text/plain": [
       "array([[0.        , 0.        , 0.        ],\n",
       "       [0.        , 0.        , 0.        ],\n",
       "       [0.        , 0.        , 0.        ],\n",
       "       ...,\n",
       "       [0.05229372, 0.05243899, 0.05249445],\n",
       "       [0.0532477 , 0.05303792, 0.05291314],\n",
       "       [0.05604755, 0.05570661, 0.05516105]])"
      ]
     },
     "execution_count": 126,
     "metadata": {},
     "output_type": "execute_result"
    }
   ],
   "source": [
    "Qtable_runner"
   ]
  },
  {
   "cell_type": "markdown",
   "metadata": {},
   "source": [
    "### Plotting\n",
    "\n",
    "Now we'll plot important information about the training in order to get important insights about its performance"
   ]
  },
  {
   "cell_type": "code",
   "execution_count": 127,
   "metadata": {},
   "outputs": [
    {
     "data": {
      "application/vnd.jupyter.widget-view+json": {
       "model_id": "30aa8d2b854a417db45e93705f1389f4",
       "version_major": 2,
       "version_minor": 0
      },
      "image/png": "[encoded data removed]",
      "text/html": [
       "\n",
       "            <div style=\"display: inline-block;\">\n",
       "                <div class=\"jupyter-widgets widget-label\" style=\"text-align: center;\">\n",
       "                    Figure\n",
       "                </div>\n",
       "                <img src='data:image/png;base64,iVBORw0KGgoAAAANSUhEUgAAAoAAAAHgCAYAAAA10dzkAAAAOXRFWHRTb2Z0d2FyZQBNYXRwbG90bGliIHZlcnNpb24zLjguMiwgaHR0cHM6Ly9tYXRwbG90bGliLm9yZy8g+/7EAAAACXBIWXMAAA9hAAAPYQGoP6dpAABbvUlEQVR4nO3deVhU5d8G8PvMAMM+iMi+iBuLuIIoLqlZKKam9ssl96Ukt4yyMivTFlrezNRQU9HczUwztyJzQXFFwBVXlG0QQQUVGZY57x/m1AQqynKGmftzXee6mmfOzHzP6ann5izPEURRFEFERERERkMmdQFEREREVLMYAImIiIiMDAMgERERkZFhACQiIiIyMgyAREREREaGAZCIiIjIyDAAEhERERkZBkAiIiIiI8MASERERGRkGACJiIiIjAwDIBEREZGRYQAkIiIiMjIMgERERERGhgGQiIiIyMgwABIREREZGQZAIiIiIiPDAEhERERkZBgAiYiIiIwMAyARERGRkWEAJCIiIjIyDIBERERERoYBkIiIiMjIMAASERERGRkGQCIiIiIjwwBIREREZGQYAImIiIiMDAMgERERkZFhACQiIiIyMgyAREREREaGAZCIiIjIyDAAEhERERkZBkAiIiIiI8MASERERGRkGACJiIiIjAwDIBEREZGRYQAkIiIiMjIMgET0UMuXL4cgCA9d9uzZUy2/+/HHH0MQBJ22Ll26oEuXLtXye1KpX7/+I/fvg2X58uXl7hMioqdlInUBRKT/li1bBl9f3zLt/v7+1fJ7Y8eORY8eParlu/XJpk2boFarta+XLFmCpUuXYufOnVAqldr2hg0bQq1WG8U+IaKawQBIRI8VEBCAoKCgGvs9d3d3uLu719jvSaVVq1Y6r3fu3AkACAwMhIODQ5n1jWGfEFHN4ClgIqoSgiBg4sSJWLRoEZo0aQKFQgF/f3+sW7dOZ72CggK8/fbb8Pb2hrm5Oezt7REUFIS1a9dq16no6c4bN25g/PjxcHNzg5mZGRo0aIDp06frHFX7d20rV66En58fLC0t0aJFC2zduvWR33/9+nWYmZnhww8/LPNecnIyBEHA3LlzK7xdlVHePqlfvz569eqFrVu3olWrVrCwsICfn592u5YvXw4/Pz9YWVkhODgYx44dK/O9x44dQ58+fWBvbw9zc3O0atUKP/30U5XUTET6i0cAieixSktLUVJSotMmCALkcrlO25YtW7B7927MmjULVlZWiIqKwuDBg2FiYoL//e9/AICIiAisXLkSn376KVq1aoW7d+/i1KlTyM3NfaKaCgsL0bVrV1y6dAkzZ85E8+bNERsbi8jISCQmJmLbtm0662/btg1Hjx7FrFmzYG1tja+++gr9+vXDuXPn0KBBg3J/o169eujVqxd+/PFHzJw5EzLZP38zL1u2DGZmZhgyZEiVbteTSkpKwrRp0zB9+nQolUrMnDkT/fv3x7Rp07Br1y58/vnnEAQB7777Lnr16oWUlBRYWFgAAHbv3o0ePXqgbdu2WLhwIZRKJdatW4eBAweioKAAI0eOrNbaiUhCIhHRQyxbtkwEUO4il8t11gUgWlhYiFlZWdq2kpIS0dfXV2zUqJG2LSAgQOzbt+8jf3fGjBnif//31LlzZ7Fz587a1wsXLhQBiD/99JPOel9++aUIQPzjjz90anNychLz8/O1bVlZWaJMJhMjIyMfWcuWLVvKfF9JSYno6uoqvvTSS0+0XY/zYLuvX7/+0Pf+zcvLS7SwsBDT09O1bYmJiSIA0cXFRbx79662ffPmzSIAccuWLdo2X19fsVWrVmJxcbHO9/bq1Ut0cXERS0tLK7U9RKS/eAqYiB5rxYoVOHr0qM5y+PDhMut169YNTk5O2tdyuRwDBw7ExYsXkZ6eDgAIDg7Gjh078N5772HPnj24d+/eU9X0119/wcrKSntk8YEHR6127dql0961a1fY2NhoXzs5OcHR0RFXr1595O+EhYXB2dkZy5Yt07b9/vvvyMzMxOjRo7VtVbVdT6ply5Zwc3PTvvbz8wNw/65pS0vLMu0PtvfixYtITk7WHsEsKSnRLj179oRKpcK5c+dqZBuIqObxFDARPZafn1+FbgJxdnZ+aFtubi7c3d0xd+5cuLu7Y/369fjyyy9hbm6O7t274+uvv0bjxo0rXFNubi6cnZ3LXBfn6OgIExOTMqde69atW+Y7FArFY4OaiYkJhg0bhnnz5uHWrVuws7PD8uXL4eLigu7du2vXq6rtelL29vY6r83MzB7ZXlhYCAC4du0aAODtt9/G22+/Xe535+TkVGmtRKQ/eASQiKpMVlbWQ9seBDArKyvMnDkTycnJyMrKwoIFC3Do0CH07t37iX6rbt26uHbtGkRR1GnPzs5GSUlJuXfRPq1Ro0ahsLAQ69atw82bN7FlyxYMHz5c5xrIqtqumvJg/0ybNq3M0d0HS8uWLaUtkoiqDY8AElGV2bVrF65du6Y9DVxaWor169ejYcOG5U5h4uTkhJEjRyIpKQlz5sxBQUGBzmnLR+nWrRt++uknbN68Gf369dO2r1ixQvt+VfHz80Pbtm2xbNkylJaWQq1WY9SoUQ9dvzLbVVN8fHzQuHFjJCUl4fPPP5e6HCKqYQyARPRYp06dKnMXMHB/guJ69eppXzs4OODZZ5/Fhx9+qL0LODk5WWcqmLZt26JXr15o3rw56tSpg7Nnz2LlypUICQl5opA0fPhwfP/99xgxYgSuXLmCZs2aYf/+/fj888/Rs2dPPPfcc5Xb6P8YPXo0xo0bh8zMTLRv3x4+Pj4671fVdtWkRYsWISwsDN27d8fIkSPh5uaGGzdu4OzZszh+/Dg2bNggdYlEVE0YAInosR52tGvx4sUYO3as9nWfPn3QtGlTfPDBB0hNTUXDhg2xevVqDBw4ULvOs88+iy1btuDbb79FQUEB3NzcMHz4cEyfPv2JajI3N8fu3bsxffp0fP3117h+/Trc3Nzw9ttvY8aMGU+3oY8waNAgTJkyBenp6eV+f1VtV03q2rUrjhw5gs8++wxTpkzBzZs3UbduXfj7+2PAgAFSl0dE1UgQ/3sBDRHRUxAEARMmTMD8+fOlLoWIiB6DN4EQERERGRkGQCIiIiIjw2sAiahK8GoSIqLag0cAiYiIiIwMAyARERGRkWEAJCIiIjIyDIBERERERoY3gVSCRqNBZmYmbGxsyjyQnoiIiPSTKIq4ffs2XF1dIZMZ57EwBsBKyMzMhIeHh9RlEBER0VNIS0sr9znlxoABsBJsbGwA3O9Atra2EldDREREFZGfnw8PDw/tOG6MGAAr4cFpX1tbWwZAIiKiWsaYL98yzhPfREREREaMAZCIiIjIyDAAEhERERkZXgNIRERUhURRRElJCUpLS6UuxWjJ5XKYmJgY9TV+j8MASEREVEWKioqgUqlQUFAgdSlGz9LSEi4uLjAzM5O6FL3EAEhERFQFNBoNUlJSIJfL4erqCjMzMx6BkoAoiigqKsL169eRkpKCxo0bG+1kz4/CAEhERFQFioqKoNFo4OHhAUtLS6nLMWoWFhYwNTXF1atXUVRUBHNzc6lL0juMxERERFWIR5v0A/89PBr3DhEREZGRMZgAuG/fPvTu3Ruurq4QBAGbN29+7Gf27t2LwMBAmJubo0GDBli4cGH1F0pERGRk/j0uX7lyBYIgIDExUdKajJ3BBMC7d++iRYsWmD9/foXWT0lJQc+ePdGpUyckJCTg/fffx+TJk7Fx48ZqrpSIiEi/jBw5EoIglFl69OhRJd+vUqkQFhZWJd9FVcNgbgIJCwt7os61cOFCeHp6Ys6cOQAAPz8/HDt2DP/3f/+Hl156qZqqrDhRFHn3GBER1ZgePXpg2bJlOm0KhaJKvtvZ2blKvoeqjsEcAXxSBw8eRGhoqE5b9+7dcezYMRQXF5f7GbVajfz8fJ2lOiRn5aPP/ANISrtVLd9PRET0XwqFAs7OzjpLnTp1ANw/hbtgwQKEhYXBwsIC3t7e2LBhg/azRUVFmDhxIlxcXGBubo769esjMjJS+/7jLs3au3cvgoODoVAo4OLigvfeew8lJSXa97t06YLJkyfjnXfegb29PZydnfHxxx9X+T4wJkYbALOysuDk5KTT5uTkhJKSEuTk5JT7mcjISCiVSu3i4eFRLbUt2nsZJzPy8Ob6RBQUlTz+A0REpJdEUURBUYkkiyiKVbotH374IV566SUkJSVh6NChGDx4MM6ePQsAmDt3LrZs2YKffvoJ586dw6pVq1C/fv0KfW9GRgZ69uyJNm3aICkpCQsWLMDSpUvx6aef6qz3448/wsrKCocPH8ZXX32FWbNmISYmpkq30ZgYzCngp/HfU6wP/mN52KnXadOmISIiQvs6Pz+/WkLgjN7+OHgpF5dz7uKTrWcR2b9Zlf8GERFVv3vFpfD/6HdJfvvMrO6wNKv4ML9161ZYW1vrtL377rv48MMPAQAvv/wyxo4dCwD45JNPEBMTg3nz5iEqKgqpqalo3LgxOnbsCEEQ4OXlVeHfjYqKgoeHB+bPnw9BEODr64vMzEy8++67+Oijj7TTuTRv3hwzZswAADRu3Bjz58/Hrl278Pzzz1f4t+gfRhsAnZ2dkZWVpdOWnZ0NExMT1K1bt9zPKBSKKrse4lHsLM0we0ALDFl6GGuPpOJZX0c87+/0+A8SERE9pa5du2LBggU6bfb29tp/DgkJ0XkvJCREeyfvyJEj8fzzz8PHxwc9evRAr169ylxm9TBnz55FSEiIzsGXDh064M6dO0hPT4enpyeA+wHw31xcXJCdnV3h7SNdRhsAQ0JC8Ntvv+m0/fHHHwgKCoKpqalEVf2jfSMHvNqpAX7YdxnvbjyBFh6d4GjDmcyJiGoTC1M5zszqLtlvPwkrKys0atToiT7zILS1bt0aKSkp2LFjB/78808MGDAAzz33HH7++efHfkd5Nz2Wd0buv2OzIAjQaDRPVC/9w2CuAbxz5w4SExO1f42kpKQgMTERqampAO6fvh0+fLh2/fDwcFy9ehURERE4e/YsoqOjsXTpUrz99ttSlF+ut0KbwM/FFjfuFuGdn09U+fUcRERUvQRBgKWZiSRLVc8kcejQoTKvfX19ta9tbW0xcOBALF68GOvXr8fGjRtx48aNx36vv78/4uLidMa4uLg42NjYwM3Nreo2gHQYTAA8duwYWrVqhVatWgEAIiIi0KpVK3z00UcA7s9B9CAMAoC3tze2b9+OPXv2oGXLlvjkk08wd+5cvZgC5gGFiRzfDWoJMxMZ9py7jpWHrkpdEhERGSi1Wo2srCyd5d83RW7YsAHR0dE4f/48ZsyYgSNHjmDixIkAgG+//Rbr1q1DcnIyzp8/jw0bNsDZ2Rl2dnaP/d3x48cjLS0NkyZNQnJyMn799VfMmDEDERERfJxbNTKYU8BdunR55BGy5cuXl2nr3Lkzjh8/Xo1VVV4TJxtMC/PFzN/O4LNtZxHSoC4aO9lIXRYRERmYnTt3wsXFRafNx8cHycnJAICZM2di3bp1GD9+PJydnbF69Wr4+/sDAKytrfHll1/iwoULkMvlaNOmDbZv316hAOfm5obt27dj6tSpaNGiBezt7TFmzBh88MEHVb+RpCWIPK/41PLz86FUKpGXlwdbW9tq+x1RFDFi2VHsO38d/i622DyhA8xM+FcREZE+KSwsREpKCry9vWFubljXbAuCgE2bNqFv375Sl1Jhj/r3UVPjtz5jiqgFBEHA//2vOepYmuKMKh/fxJyTuiQiIiKqxRgAawlHW3N88dL9W+B/2HcZBy/lSlwRERER1VYMgLVI96bOGNTGA6IIRPyUiLyC8h9ZR0REVJVEUaxVp3/p8RgAa5kPe/mjfl1LqPIK8cGvpzg1DBERET0xBsBaxkphgm8HtoRcJuC3pExsTsyQuiQiIiKqZRgAa6FWnnXwRrfGAIAPN5/G1dy7EldEREQP8MyMfuC/h0djAKylxndpiOD69rijLsHktQkoKuHjcIiIpPTgUWUFBQUSV0LAP/8e9OHxrvrIYCaCNjYmchm+HdQSPb+LRVJ6Hr6JOYdpYX5Sl0VEZLTkcjns7OyQnZ0NALC0tKzyx7HR44miiIKCAmRnZ8POzg5y+ZM9E9lYMADWYm52FvjypeYIXxWPRXsvo0NDBzzTpJ7UZRERGS1nZ2cA0IZAko6dnZ323weVxSeBVIK+zCT+weaTWHUoFQ7WCuyc0gkO1grJaiEiIqC0tBTFxZyqSyqmpqaPPPKnL+O3lHgE0AB88II/jqTcwPlrd/DWT0lYNrINZDKediAikopcLuepR9JrvAnEAJibyjFvcGsoTGTYe/46og+kSF0SERER6TEGQAPh42yDD3v5AwC+3JmMk+l5EldERERE+ooB0IAMaeuJ7k2dUFwqYtLa47ijLpG6JCIiItJDDIAGRBAEfPlSc7gozXEltwAzfj0tdUlERESkhxgADYydpRm+G9QKMgHYeDwdmxP4qDgiIiLSxQBogIK97TH570fFfbD5FB8VR0RERDoYAA3UxK6NtI+Km7Q2AeqSUqlLIiIiIj3BAGigTOQyzBnUEnaWpjiRnocvdiRLXRIRERHpCQZAA+ZqZ4H/+18LAMCyA1ew81SWxBURERGRPmAANHDP+TvhtWcaAACm/pyEtBsFEldEREREUmMANAJTu/uglacdbheWYOKa4ygq0UhdEhEREUmIAdAImMplmP9KaygtTJGUnofIHWelLomIiIgkxABoJNzsLPDNy7wekIiIiBgAjQqvByQiIiKAAdDo8HpAIiIiYgA0Mv+9HpDzAxIRERkfBkAj9O/rAaMPpOD307wekIiIyJgwABopnesBN/B6QCIiImPCAGjEHlwPmF9YgglrjvN5wUREREaCAdCIPbge8MHzgj/ZekbqkoiIiKgGMAAaOTc7C8wZ2BKCAKw6lIpfjqdLXRIRERFVMwZAQhcfR0x+tjEA4P1NJ5GclS9xRURERFSdDCoARkVFwdvbG+bm5ggMDERsbOwj1//+++/h5+cHCwsL+Pj4YMWKFTVUqf6Z3K0xnmlSD4XFGry+6jjyC4ulLomIiIiqicEEwPXr12PKlCmYPn06EhIS0KlTJ4SFhSE1NbXc9RcsWIBp06bh448/xunTpzFz5kxMmDABv/32Ww1Xrh/kMgFzBraEq9IcKTl3MXVDEkRRlLosIiIiqgaCaCCjfNu2bdG6dWssWLBA2+bn54e+ffsiMjKyzPrt27dHhw4d8PXXX2vbpkyZgmPHjmH//v0V+s38/HwolUrk5eXB1ta28huhBxLTbuHlhXEoLhXxfk9fvPZMQ6lLIiIiqlKGOH4/KYM4AlhUVIT4+HiEhobqtIeGhiIuLq7cz6jVapibm+u0WVhY4MiRIyguNt7Tny097PBR76YAgC93nsOhy7kSV0RERERVzSACYE5ODkpLS+Hk5KTT7uTkhKys8p9y0b17dyxZsgTx8fEQRRHHjh1DdHQ0iouLkZOTU+5n1Go18vPzdRZDNLStJ/q1ckOpRsTENQnIzi+UuiQiIiKqQgYRAB8QBEHntSiKZdoe+PDDDxEWFoZ27drB1NQUL774IkaOHAkAkMvl5X4mMjISSqVSu3h4eFRp/fpCEAR81i8APk42yLmjxoQ1x1FcqpG6LCIiIqoiBhEAHRwcIJfLyxzty87OLnNU8AELCwtER0ejoKAAV65cQWpqKurXrw8bGxs4ODiU+5lp06YhLy9Pu6SlpVX5tugLSzMTLBjaGtYKExy9chNf7UyWuiQiIiKqIgYRAM3MzBAYGIiYmBid9piYGLRv3/6RnzU1NYW7uzvkcjnWrVuHXr16QSYrf7coFArY2trqLIasQT1r/N/LzQEAi2NTsPOUSuKKiIiIqCoYRAAEgIiICCxZsgTR0dE4e/Ys3nzzTaSmpiI8PBzA/aN3w4cP165//vx5rFq1ChcuXMCRI0cwaNAgnDp1Cp9//rlUm6CXegS44NVO3gCAtzecwMXsOxJXRERERJVlInUBVWXgwIHIzc3FrFmzoFKpEBAQgO3bt8PLywsAoFKpdOYELC0txTfffINz587B1NQUXbt2RVxcHOrXry/RFuivd3r4Iik9D0dSbuC1lcfw64QOsDE3lbosIiIiekoGMw+gFIxpHqHrt9XoPW8/svIL8by/ExYNDYRMVv4NNkRERPrMmMbvhzGYU8BUverZKLBwWCDM5DLEnLmG+bsvSl0SERERPSUGQKqwlh52+LRvAADg2z/PY9fZaxJXRERERE+DAZCeyIA2HhjazhOiCExZl4jL13lTCBERUW3DAEhP7KNeTRHoVQe31SUYtzIed9QlUpdERERET4ABkJ6YmYkMC4a0hqONAhey7+Dtn5LAe4mIiIhqDwZAeiqOtuZYMDQQpnIBO09nIWrPJalLIiIiogpiAKSnFuhVBzP73L8p5P/+OIc957IlroiIiIgqggGQKuWVtp4YHOwBUQQmr03A1dy7UpdEREREj8EASJX2cZ+maOVph/zC+zeFFBTxphAiIiJ9xgBIlaYwkWPh0EDUs1EgOes23vopCRoNbwohIiLSVwyAVCWcbM2xcGhrmMoF7DiVhbl/XZC6JCIiInoIBkCqMoFe9visbzMAwJw/L2DHSZXEFREREVF5GACpSg1o44HRHbwBABE/JeF0Zp7EFREREdF/MQBSlXu/py86NXbAveJSvLYiHjl31FKXRERERP/CAEhVzkQuw/zBrdHAwQoZt+4hfGU8iko0UpdFREREf2MApGqhtDTF4hFBsDE3wbGrN/Hh5lN8XBwREZGeYACkatOwnjXmDW4FmQCsP5aG5XFXpC6JiIiIwABI1ayLjyPe7+kHAPhk6xnEXrgucUVERETEAEjVbkxHb7zU2h0aEZiw+jguX78jdUlERERGjQGQqp0gCPisX4D2cXFjVxxDfmGx1GUREREZLQZAqhHmpnIsGhYIF6U5Ll+/i4lrElBSyjuDiYiIpMAASDXG0cYcPwwLgrmpDPvOX8esrWekLomIiMgoMQBSjWrmrsScgS0BACsOXsXyAynSFkRERGSEGACpxvUIcMG7PXwBALO2nsHu5GyJKyIiIjIuDIAkifDODTAg6P6dwZPWJiA5K1/qkoiIiIwGAyBJQhAEfNq3Gdo1sMcddQnGLD+G7NuFUpdFRERkFBgASTJmJjIsHBoI77+fGfzaingUFpdKXRYREZHBYwAkSdlZmiF6ZBsoLUyRmHYLb21IgkbDZwYTERFVJwZAkpy3gxUWDQuEqVzAthMqfPvnealLIiIiMmgMgKQX2jWoi8/7NQMAzPvrIjbGp0tcERERkeFiACS98XKQB17v0hAA8N4vJ3Ak5YbEFRERERkmBkDSK1NDfRAW4IziUhHjVh5DSs5dqUsiIiIyOAyApFdkMgGzB7REC3clbhYUY+SyI8i9o5a6LCIiIoPCAEh6x8JMjiUj2sC9jgWu5hZgzI/HcK+I08MQERFVFQZA0kv1bBRYPipYOz3MlPUJKOX0MERERFXCoAJgVFQUvL29YW5ujsDAQMTGxj5y/dWrV6NFixawtLSEi4sLRo0ahdzc3Bqqlh6nkaM1Fg8Pgplcht9PX8On285IXRIREZFBMJgAuH79ekyZMgXTp09HQkICOnXqhLCwMKSmppa7/v79+zF8+HCMGTMGp0+fxoYNG3D06FGMHTu2hiunRwn2tsc3A1oAAJYduIKl+1MkroiIiKj2M5gAOHv2bIwZMwZjx46Fn58f5syZAw8PDyxYsKDc9Q8dOoT69etj8uTJ8Pb2RseOHTFu3DgcO3ashiunx+ndwhXTwnwBAJ9uO4MdJ1USV0RERFS7GUQALCoqQnx8PEJDQ3XaQ0NDERcXV+5n2rdvj/T0dGzfvh2iKOLatWv4+eef8cILLzz0d9RqNfLz83UWqhmvPdMAw9p5QRSBKesTEX+VcwQSERE9LYMIgDk5OSgtLYWTk5NOu5OTE7Kyssr9TPv27bF69WoMHDgQZmZmcHZ2hp2dHebNm/fQ34mMjIRSqdQuHh4eVbod9HCCIGBGb3885+cIdYkGY3/kHIFERERPyyAC4AOCIOi8FkWxTNsDZ86cweTJk/HRRx8hPj4eO3fuREpKCsLDwx/6/dOmTUNeXp52SUtLq9L66dFM5DLMHdwKzTlHIBERUaUYRAB0cHCAXC4vc7QvOzu7zFHBByIjI9GhQwdMnToVzZs3R/fu3REVFYXo6GioVOVfY6ZQKGBra6uzUM2yNDPBUs4RSEREVCkGEQDNzMwQGBiImJgYnfaYmBi0b9++3M8UFBRAJtPdfLlcDuD+kUPSX/+dI3DS2gSUlGqkLouIiKjWMIgACAARERFYsmQJoqOjcfbsWbz55ptITU3VntKdNm0ahg8frl2/d+/e+OWXX7BgwQJcvnwZBw4cwOTJkxEcHAxXV1epNoMqSDtHoIkMf569hg82n2JwJyIiqiATqQuoKgMHDkRubi5mzZoFlUqFgIAAbN++HV5eXgAAlUqlMyfgyJEjcfv2bcyfPx9vvfUW7Ozs8Oyzz+LLL7+UahPoCQV722Pe4FZ4fVU81h1Ng6ONAhGhPlKXRUREpPcEkYdNnlp+fj6USiXy8vJ4PaCE1hxOxfubTgIAPukbgGHtvCSuiIiI9BnHbwM6BUzG65W2npjyXGMAwEe/nsJ2ThRNRET0SAyAZBDe6NYYr7T1vD9R9LpEHLzEZzoTERE9DAMgGQRBEPDJiwHo3tQJRaUavLbiGM5k8kktRERE5WEAJIMhlwn4blArBNe3x211CUYsO4K0GwVSl0VERKR3GADJoJibyrF4RBB8nGxw/bYaI6L5tBAiIqL/YgAkg6O0MMWPo4PhZmeByzl3MfrHYygoKpG6LCIiIr3BAEgGyVlpjh9HB8PO0hRJabfw+qrjKCrh00KIiIgABkAyYI0crRE9sg3MTWXYe/46In5KRKmG014SERExAJJBa+1ZBwuHBsJULmDrCRU+/JWPjCMiImIAJIPXxccR3w5sCUG4/9SQr34/J3VJREREkmIAJKPQq7krPu/XDACwYM8lLNx7SeKKiIiIpMMASEZjcLAn3gvzBQB8sSMZa4+kSlwRERGRNBgAyaiEd26I17s0BAC8v+kktp7IlLgiIiKimscASEbnne4+2ucGv7k+EXvOZUtdEhERUY1iACSj8+C5wb2au6C4VET4qngcu3JD6rKIiIhqDAMgGSW5TMDsAS3RxaceCos1GLX8KM5k5ktdFhERUY1gACSjZWYiw4IhgWhTvw5uF5ZgePRhpOTclbosIiKiascASEbNwkyOJSPawN/FFjl3ijBk8SGk3SiQuiwiIqJqxQBIRk9pYYoVY4LRsJ4VMvMKMWTJYWTlFUpdFhERUbVhACQC4GCtwOqx7eBpb4nUGwV4ZckhXL+tlrosIiKiasEASPQ3Z6U51rzaFq5Kc1y+fhfDlh7GzbtFUpdFRERU5RgAif7FvY4l1rzaDo42CiRn3cbw6CPILyyWuiwiIqIqxQBI9B/1Haywemxb2FuZ4WRGHkYtO4q76hKpyyIiIqoyDIBE5WjsZIOVY4Jha26C+Ks3MfbHYygsLpW6LCIioirBAEj0EE1dlVgxpi2sFSY4eDkX41bGQ13CEEhERLUfAyDRI7T0sMOyUW1gYSrH3vPXMWlNAopLNVKXRUREVCkMgESP0aa+PZaMCIKZiQx/nLmGiJ+SUKoRpS6LiIjoqTEAElVAh0YOWDQ0EKZyAb8lZeKtnxIZAomIqNZiACSqoK6+jpg3uDVMZAI2J2Zi6gYeCSQiotqJAZDoCfQIcMa8wa0glwn4JSEDU39mCCQiotqHAZDoCYU1c/knBB7PwDs/n2AIJCKiWsVE6gKIaqOezVwgisDkdQnYeDwdMgH48qXmkMkEqUsjIiJ6LAZAoqf0QnMXiBDxxrpEbIhPhyAAX/RnCCQiIv3HU8BEldCruSvmDGwJmQD8dCwd7286CQ1PBxMRkZ4zqAAYFRUFb29vmJubIzAwELGxsQ9dd+TIkRAEoczStGnTGqyYDEHvFq749u8QuO5oGqZvZggkIiL9ZjABcP369ZgyZQqmT5+OhIQEdOrUCWFhYUhNTS13/e+++w4qlUq7pKWlwd7eHi+//HINV06G4MWWbtoQuPZIGqZvPsUQSEREeksQRdEgRqm2bduidevWWLBggbbNz88Pffv2RWRk5GM/v3nzZvTv3x8pKSnw8vKq0G/m5+dDqVQiLy8Ptra2T107GY7NCRmI+CkRGhF4pa0nPn0xgNcEEhHpGY7fBnIEsKioCPHx8QgNDdVpDw0NRVxcXIW+Y+nSpXjuuecqHP6IytO3lRu+GdACggCsOZyKab+c5BQxRESkdwziLuCcnByUlpbCyclJp93JyQlZWVmP/bxKpcKOHTuwZs2aR66nVquhVqu1r/Pz85+uYDJo/Vq5Q4CAiJ8Ssf5YGopLNfjqf81hIjeIv7eIiMgAGNSIJAi6p9pEUSzTVp7ly5fDzs4Offv2feR6kZGRUCqV2sXDw6My5ZIB69vKDXP/9cSQKesTUVyqkbosIiIiAAYSAB0cHCCXy8sc7cvOzi5zVPC/RFFEdHQ0hg0bBjMzs0euO23aNOTl5WmXtLS0StdOhqtXc1dEDWkNU7mArSdUmLjmOIpKGAKJiEh6BhEAzczMEBgYiJiYGJ32mJgYtG/f/pGf3bt3Ly5evIgxY8Y89ncUCgVsbW11FqJH6d7UGYuGBcLMRIbfT1/D66viUVhcKnVZRERk5AwiAAJAREQElixZgujoaJw9exZvvvkmUlNTER4eDuD+0bvhw4eX+dzSpUvRtm1bBAQE1HTJZCSe9XXCkuFBUJjIsCs5G6+uOMYQSEREkjKYADhw4EDMmTMHs2bNQsuWLbFv3z5s375de1evSqUqMydgXl4eNm7cWKGjf0SV8UyTelg2qg0sTOWIvZCDUcuOoqCoROqyiIjISBnMPIBS4DxC9KSOXrmBUcuO4o66BMH17RE9qg2sFQZxMz4RUa3B8duAjgAS1QZt6ttjxZhg2Jib4MiVGxi29DDy7hVLXRYRERkZBkCiGtbasw7WjG0HpYUpElJvYciSQ7hxt0jqsoiIyIgwABJJoJm7EmtfbYe6VmY4lZGPgYsOIiuvUOqyiIjISDAAEknE39UW68eFwEVpjgvZd/Dyojik5hZIXRYRERkBvbgJZNeuXdi1axeys7Oh0ehOlBsdHS1RVY/Hi0ipKqTdKMDQpYdxNbcATrYKrBrTFo2dbKQui4jIYHH81oMjgDNnzkRoaCh27dqFnJwc3Lx5U2chMnQe9pbYMC4EPk42uJavxoBFB3EyPU/qsoiIyIBJfgTQxcUFX331FYYNGyZlGU+Ff0FQVbp5twgjlx1BUnoebBQmWDqyDYK97aUui4jI4HD81oMjgEVFRY99XBuRMahjZYbVr7ZDW2973FaXYHj0Yew5ly11WUREZIAkD4Bjx47FmjVrpC6DSC9YK0zw4+hgPOvriMJiDV5dcQw7TqqkLouIiAyM5I8gKCwsxA8//IA///wTzZs3h6mpqc77s2fPlqgyImmYm8qxcGggIn5KxNYTKkxYcxxfvtQcLwd5SF0aEREZCMkD4IkTJ9CyZUsAwKlTp3TeEwRBgoqIpGdmIsN3g1rBWmGCdUfTMPXnE7hdWILRHb2lLo2IiAyA5AFw9+7dUpdApJfkMgGR/ZvBWmGCJftTMGvrGeTeVePtUB/+cURERJUi+TWA/5aeno6MjAypyyDSG4IgYPoLfpja3QcA8P3uS5j2y0mUlGoe80kiIqKHkzwAajQazJo1C0qlEl5eXvD09ISdnR0++eSTMpNCExkjQRAwoWsjfNG/GWQCsO5oGsavPo7C4lKpSyMiolpK8gA4ffp0zJ8/H1988QUSEhJw/PhxfP7555g3bx4+/PBDqcsj0huDgj2xYGggzExk+OPMNYyIPoL8wmKpyyIiolpI8omgXV1dsXDhQvTp00en/ddff8X48eP1+pQwJ5IkKRy6nItXfzyG2+oS+LnY4sdRbeBoay51WUREtQbHbz04Anjjxg34+vqWaff19cWNGzckqIhIv7VrUBfrxrWDg7UCZ1X5+N/Cg7iae1fqsoiIqBaRPAC2aNEC8+fPL9M+f/58tGjRQoKKiPRfU1clNr4eAq+6lki9UYCXFsThVAafH0xERBUj+SngvXv34oUXXoCnpydCQkIgCALi4uKQlpaG7du3o1OnTlKW90g8hExSu35bjRHRR3BGlQ9rhQl+GB6I9g0dpC6LiEivcfzWgyOAnTt3xvnz59GvXz/cunULN27cQP/+/XHu3Dm9Dn9E+qCejQLrxrVDuwb2uKMuwcjoo9jOR8cREdFjSH4EsDbjXxCkLwqLSzFlXSJ2ns6CIAAfvOCPMXxqCBFRuTh+SxQAT5w4UeF1mzdvXo2VVA47EOmTUo2Ij7ecxspDVwEAYzp6Y3pPP8hkfGoIEdG/cfyW6FFwLVu2hCAIeFz2FAQBpaWc7JaoIuQyAbNebAq3Ohb4Ykcylu5PQVZeIb4Z0ALmpnKpyyMiIj0iSQBMSUmR4meJDJ4gCAjv3BAuSnO8vSEJ206qkH27EIuHB8HO0kzq8oiISE/wGsBK4CFk0mdxl3IwbkU8bqtL0LCeFZaPCoaHvaXUZRERSY7jt0QBcMuWLQgLC4OpqSm2bNnyyHX/+4QQfcIORPruXNZtjFx2BKq8QtSzUWDZyDYIcFNKXRYRkaQ4fksUAGUyGbKysuDo6AiZ7OEz0ej7NYDsQFQbZOUVYuSyI0jOug1LMzmihrRGFx9HqcsiIpIMx2+J5gHUaDRwdHTU/vPDFn0Of0S1hbPSHD+Fh6BDo7ooKCrFmB+P4aejaVKXRUREEpJ8Iujy3Lp1S+oSiAyKrbkplo0MRr9WbijViHhn4wnMjjn/2DvxiYjIMEkeAL/88kusX79e+/rll1+Gvb093NzckJSUJGFlRIbFzESG2QNaYELXhgCAubsu4I11iSgs5pF2IiJjI3kAXLRoETw8PAAAMTEx+PPPP7Fz506EhYVh6tSpEldHZFgEQcDU7r74on8zmMgEbEnKxNAlh5F7Ry11aUREVIMkD4AqlUobALdu3YoBAwYgNDQU77zzDo4ePSpxdUSGaVCwJ34cHQwbcxMcu3oT/aLicDH7jtRlERFRDZE8ANapUwdpafcvSN+5cyeee+45AIAoirwJhKgadWjkgE3j28PD3gKpNwrQP+oA4i7mSF0WERHVAMkDYP/+/fHKK6/g+eefR25uLsLCwgAAiYmJaNSokcTVERm2Ro422Dy+AwK96iC/sATDo4/wDmEiIiMgeQD89ttvMXHiRPj7+yMmJgbW1tYA7p8aHj9+vMTVERm+utYKrB7bFn1auKLk7zuEv9iRDI2GdwgTERkqg3oUXFRUFL7++muoVCo0bdoUc+bMQadOnR66vlqtxqxZs7Bq1SpkZWXB3d0d06dPx+jRoyv0e5xIkgyJKIr49s8LmLvrAgAgLMAZswe0hIWZXOLKiIiqFsdvwETqAgDg3LlzmDdvHs6ePQtBEODr64tJkybBx8enwt+xfv16TJkyBVFRUejQoQMWLVqEsLAwnDlzBp6enuV+ZsCAAbh27RqWLl2KRo0aITs7GyUlJVW1WUS1iiAIiHi+CbwdLPHuzyex41QWMm8dxOIRQXC0MZe6PCIiqkKSHwH8+eefMXjwYAQFBSEkJAQAcOjQIRw9ehRr1qzByy+/XKHvadu2LVq3bo0FCxZo2/z8/NC3b19ERkaWWX/nzp0YNGgQLl++DHt7+6eqnX9BkKE6knID41Yew82CYrgqzfHD8CA+Q5iIDAbHbz0IgA0aNMDQoUMxa9YsnfYZM2Zg5cqVuHz58mO/o6ioCJaWltiwYQP69eunbX/jjTeQmJiIvXv3lvnM+PHjcf78eQQFBWHlypWwsrJCnz598Mknn8DCwqJCtbMDkSG7knMXo5cfxeWcu7AwleObAS3Qs5mL1GUREVUax289uAkkKysLw4cPL9M+dOhQZGVlVeg7cnJyUFpaCicnJ512Jyenh37H5cuXsX//fpw6dQqbNm3CnDlz8PPPP2PChAkP/R21Wo38/HydhchQ1XewwqYJHfBMk3q4V1yK8auP49uY87w5hIjIAEgeALt06YLY2Ngy7fv373/kDRzlEQRB57UoimXaHtBoNBAEAatXr0ZwcDB69uyJ2bNnY/ny5bh37165n4mMjIRSqdQuDyawJjJUSgtTRI8IwpiO3gCA73ZdwIQ1x1FQxGtliYhqM8lvAunTpw/effddxMfHo127dgDuXwO4YcMGzJw5E1u2bNFZtzwODg6Qy+VljvZlZ2eXOSr4gIuLC9zc3KBU/nNdk5+fH0RRRHp6Oho3blzmM9OmTUNERIT2dX5+PkMgGTwTuQwf9vKHj5MNpm++f3PI1dwCLB4RBDe7il0uQURE+kXyawBlsoodhBQE4ZFPBmnbti0CAwMRFRWlbfP398eLL75Y7k0gP/zwA6ZMmYLs7Gzt3IO//vor+vfvjzt37lToOkBeQ0DG5tiVGwhfFY+cO0VwsDbDwqGBCKr/dDdRERFJheO3HpwC1mg0FVoe91i4iIgILFmyBNHR0Th79izefPNNpKamIjw8HMD9o3f/vtbwlVdeQd26dTFq1CicOXMG+/btw9SpUzF69OgK3wRCZGyC6tvj14kd4edii5w7RRi8+BB+OsYnhxAR1TaSBcCePXsiLy9P+/qzzz7DrVu3tK9zc3Ph7+9f4e8bOHAg5syZg1mzZqFly5bYt28ftm/fDi8vLwD3nyySmpqqXd/a2hoxMTG4desWgoKCMGTIEPTu3Rtz586t/MYRGTA3OwtsfD0EYQHOKC4V8c7PJ/DJ1jMoKdVIXRoREVWQZKeA5XI5VCoVHB0dAQC2trZITExEgwYNAADXrl2Dq6vrY4/8SYmHkMmYaTQivtt1Ad/9/eSQZ5rUw7xBraC0NJW4MiKiR+P4LeERwP/mTgN6Ih2RUZDJBLz5fBN8/0prmJvKsO/8dfT5fj+Sszg9EhGRvpP8GkAiqt1eaO6Cja+3h3sdC1zNLUC/7+Ow9USm1GUREdEjSBYABUEoM0ffw+bsIyL91tRVid8mdkSnxg64V1yKiWsSELnjLEo5aTQRkV6SbB5AURQxcuRIKBQKAEBhYSHCw8NhZWUF4P5TN4io9qhjZYZlI9vg6z/OYdHey1i09zLOZOZj7qBWqGNlJnV5RET0L5LdBDJq1KgKrbds2bJqruTp8SJSovJtPZGJqRtO4F5xKdzrWGDRsEA0dVU+/oNERDWA47ceTARdm7EDET1cclY+xq2Mx9XcApibyvDlS83xYks3qcsiIuL4Dd4EQkTVxNfZFlsmdETnJvVQWKzBG+sS8SnnCyQi0gsMgERUbZSWpoge2QYTujYEACzZn4Lh0UeQe4fX+BIRSYkBkIiqlVwmYGp3Xywc2hpWZnLEXcrFC3P3I/7qTalLIyIyWgyARFQjegS4YPOEDmhYzwpZ+YUYuOggovencBJ4IiIJMAASUY1p7GSDXyd2RK/mLijRiJi19Qwmrk3AHXWJ1KURERkVBkAiqlHWChPMG9wKH/f2h4lMwLYTKvSZvx/nr92WujQiIqPBAEhENU4QBIzs4I3140LgojTH5et38eL8A9ickCF1aURERoEBkIgkE+hVB1sndUTHRvcfITdlfSI+2HwS6pJSqUsjIjJoDIBEJKm61gr8ODoYk59tBABYdSgVAxYeRPrNAokrIyIyXAyARCQ5uUxARKgPlo1qAztLUySl56HXvP3YfS5b6tKIiAwSAyAR6Y2uPo7YOqkjmrsrcaugGKOWHcUXO5JRzKeHEBFVKQZAItIr7nUssSE8BMNDvAAAC/dewsBFB5Fx657ElRERGQ4GQCLSOwoTOWa9GIAFQ1rDxtwEx1Nvoed3sYg5c03q0oiIDAIDIBHprbBmLtg2qRNauCuRd68Yr644hlm/nUFRCU8JExFVBgMgEek1z7qW2BDeHmM7egMAog+k4H8L45Cay7uEiYieFgMgEek9MxMZPujljyXDg2BnaYoT6Xl4YW4stp1QSV0aEVGtxABIRLXGc/5O2D65E4K86uC2ugQT1hzHB5tPorCYE0cTET0JBkAiqlVc7Syw9rV2GN+lIYD7E0f3i4rDxew7EldGRFR7MAASUa1jKpfhnR6++HF0MOpameGsKh+95sVi7ZFUiKIodXlERHqPAZCIaq3OTephxxud0LGRAwqLNZj2y0mEr4rHzbtFUpdGRKTXGACJqFZztDXHitHBeL+nL0zlAn4/fQ1h38Ui7lKO1KUREektBkAiqvVkMgGvPdMQm8Z3QAMHK2TlF2LIksP4aicfI0dEVB4GQCIyGAFuSmyd3BGD2nhAFIGoPZfwvwVxuJJzV+rSiIj0CgMgERkUSzMTfPFScywY0hpKC1Mk/T1n4M/x6bxBhIjobwyARGSQwpq5YMcbndDW2x53i0rx9oYkTFqbgLx7xVKXRkQkOQZAIjJYrnYWWPNqO0zt7gO5TMDWEyr0/C4Why7nSl0aEZGkGACJyKDJZQImdG2En8ND4GlviYxb9zB48SF8tu0MnyBCREaLAZCIjEIrzzrY/kYn7Q0ii2NT0Gf+fpzKyJO6NCKiGscASERGw1px/waRJcOD4GBthvPX7qBf1AF8v/siSjW8QYSIjIdBBcCoqCh4e3vD3NwcgYGBiI2Nfei6e/bsgSAIZZbk5OQarJiIpPCcvxN+n/IMujd1QnGpiK9/P4cBiw7iai6niyEi42AwAXD9+vWYMmUKpk+fjoSEBHTq1AlhYWFITU195OfOnTsHlUqlXRo3blxDFRORlOpaK7BwaCD+7+UWsFaYIP7qTYR9F4s1h/k8YSIyfIJoIP+na9u2LVq3bo0FCxZo2/z8/NC3b19ERkaWWX/Pnj3o2rUrbt68CTs7u6f6zfz8fCiVSuTl5cHW1vZpSyciiaXdKMDbG5JwOOUGAOBZX0d88VIzONqYS1wZEVUHjt8GcgSwqKgI8fHxCA0N1WkPDQ1FXFzcIz/bqlUruLi4oFu3bti9e/cj11Wr1cjPz9dZiKj287C3xNpX22F6Tz+YyWX4Kzkb3b/dhx0nVVKXRkRULQwiAObk5KC0tBROTk467U5OTsjKyir3My4uLvjhhx+wceNG/PLLL/Dx8UG3bt2wb9++h/5OZGQklEqldvHw8KjS7SAi6chkAl59pgF+m9QRfi62uFlQjNdXH8ektQm4cbdI6vKIiKqUQZwCzszMhJubG+Li4hASEqJt/+yzz7By5coK39jRu3dvCIKALVu2lPu+Wq2GWq3Wvs7Pz4eHh4dRH0ImMkRFJRp8t+s8Fu69jFKNCAdrM3zatxl6BDhLXRoRVQGeAjaQI4AODg6Qy+VljvZlZ2eXOSr4KO3atcOFCxce+r5CoYCtra3OQkSGx8xEhqndfbFpfHs0drRGzp0ihK+Kx6S1CbjJo4FEZAAMIgCamZkhMDAQMTExOu0xMTFo3759hb8nISEBLi4uVV0eEdVSzd3tsHVyR4zv0hAyAfgtKRPPf7sXO0+Vf2kJEVFtYSJ1AVUlIiICw4YNQ1BQEEJCQvDDDz8gNTUV4eHhAIBp06YhIyMDK1asAADMmTMH9evXR9OmTVFUVIRVq1Zh48aN2Lhxo5SbQUR6RmEixzs9fNG9qTPe3pCEC9l3EL4qHn1auGJmn6aoY2UmdYlERE/MYALgwIEDkZubi1mzZkGlUiEgIADbt2+Hl5cXAEClUunMCVhUVIS3334bGRkZsLCwQNOmTbFt2zb07NlTqk0gIj3WwsMOv03qiO92XcCivZewJSkTcZdy8Vm/AHRvymsDiah2MYibQKTCi0iJjFNi2i28vSEJF7PvAABebOmKj3vzaCBRbcHx20CuASQiqkktPeywdVJHhHe+f23gr4n3rw3ceiKTTxEholqBAZCI6CmYm8rxXpgvfhnfAY3+vlN44poEvLoiHll5hVKXR0T0SAyARESV0NLDDtsmd8Tkbo1hKhfw59lreH72Xqw6dBUaDY8GEpF+YgAkIqokhYkcEc83wdZJndDSww631SX4YPMpDFp8CJeu35G6PCKiMhgAiYiqiI+zDTa+3h4f9fKHhakcR1JuIOy7WHy/+yKKSzVSl0dEpMUASERUheQyAaM7euOPN59Bp8YOKCrR4Ovfz6HP/AM4kX5L6vKIiAAwABIRVQsPe0usGB2M2QNawM7SFGdV+ej7/QF8vv0s7hWVSl0eERk5BkAiomoiCAL6t3bHnxGd0aeFKzQi8MO+y+g+Zx/2nr8udXlEZMQYAImIqpmDtQJzB7fC0hFBcFGaI/VGAUZEH8HENceRnc8pY4io5jEAEhHVkG5+ToiJ6IwxHb0hE4CtJ1To9s1erDh4BaWcMoaIahAfBVcJfJQMET2tUxl5mL7pJJLS8wAALdyV+KxfMwS4KSWujMjwcfzmEUAiIkkEuCnxy/gO+OTFprBRmCApPQ995u/HrN/O4I66ROryiMjAMQASEUlELhMwLKQ+dr3VGb2au0AjAtEHUvD87L3YeSqLzxUmomrDAEhEJDFHW3PMf6U1fhwdDE97S6jyChG+Kh6vrjiG9JsFUpdHRAaIAZCISE90blIPf7z5DCZ2bfT3c4Wz8fzsffh+90WoSzh3IBFVHQZAIiI9Ym4qx9vdfbDjjU5o622Pe8Wl+Pr3cwibE8u5A4moyjAAEhHpoUaONlj3Wjt8O7AF6tkocDnnLkZEH8G4lTwtTESVxwBIRKSnBEFAv1bu+Out+3MHymUCfj99Dc/N3ot5uy6gsJinhYno6XAewErgPEJEVJPOZd3GR7+ewuGUGwAAr7qWmNHbH8/6OklcGVHtwvGbAbBS2IGIqKaJoojfTqjw2bYzuJavBgA85+eIj3o1hWddS4mrI6odOH7zFDARUa0iCAL6tHDFrre6YNwzDWAiu3+38HPf7sXsmPM8LUxEFcIjgJXAvyCISGoXs29jxpbTOHAxFwDgZmeBaT198UIzFwiCIHF1RPqJ4zcDYKWwAxGRPhBFETtOZeHTrWeQmVcIAAiub4+Pevvz2cJE5eD4zQBYKexARKRP7hWVYtG+S1i49xIKizUQBODlQHe83d0HjjbmUpdHpDc4fjMAVgo7EBHpo8xb9/DlzmT8mpgJALBWmGBC10YY3bE+FCZyiasjkh7HbwbASmEHIiJ9Fn/1Jmb9dhpJ6XkAAE97S7zf0w/dmzrx+kAyahy/GQArhR2IiPSdRiNiU0IGvtyZjOzb96eNCWlQFx/19oefC/+/RcaJ4zcDYKWwAxFRbXFXXYIFey7hh9jLKCrRQCYAg4M98ebzTeBgrZC6PKIaxfGbAbBS2IGIqLZJu1GAL3YkY9tJFYD71we+3qUhRnfwhoUZrw8k48DxmwGwUtiBiKi2Onw5F59tP4sTf18f6GxrjrdCm6B/a3fIZbw+kAwbx28GwEphByKi2kyjEfHbiUx8tfMcMm7dAwD4udji/Z6+6NS4nsTVEVUfjt8MgJXCDkREhqCwuBQrDl7BvL8u4nZhCQCgc5N6mNbTF77O/H8bGR6O3wyAlcIORESG5ObdIsz76yJWHrqC4lIRMgF4OdADEaFN4GTLiaTJcHD8ZgCsFHYgIjJEV3Pv4qud57Q3iliYyvFqJ2+81rkhrBUmEldHVHkcvwGZ1AVUpaioKHh7e8Pc3ByBgYGIjY2t0OcOHDgAExMTtGzZsnoLJCKqBbzqWuH7Ia2x8fX2CPSqg3vFpZj710V0+Xo3foy7gqISjdQlElElGUwAXL9+PaZMmYLp06cjISEBnTp1QlhYGFJTUx/5uby8PAwfPhzdunWroUqJiGqHQK86+Dk8BAuGtEb9upbIuVOEGVtOo9vsPdickAGNhieQiGorgzkF3LZtW7Ru3RoLFizQtvn5+aFv376IjIx86OcGDRqExo0bQy6XY/PmzUhMTKzwb/IQMhEZi+JSDdYfTcN3uy7g+t9PFPF1tsE7PXzQ1ceRj5ajWoXjt4EcASwqKkJ8fDxCQ0N12kNDQxEXF/fQzy1btgyXLl3CjBkzqrtEIqJazVQuw9B2Xtg7tQumdveBjbkJkrNuY/TyYxiw6CCOXrkhdYlE9AQMIgDm5OSgtLQUTk5OOu1OTk7Iysoq9zMXLlzAe++9h9WrV8PEpGIXNavVauTn5+ssRETGxNLMBBO6NkLsO10xrnMDKExkOHrlJl5eeBBjlh/FWRX/v0hUGxhEAHzgv6cgRFEs97REaWkpXnnlFcycORNNmjSp8PdHRkZCqVRqFw8Pj0rXTERUG9lZmmFamB/2Tu2KwcGekMsE7ErORs+5sXhzfSJScwukLpGIHsEgrgEsKiqCpaUlNmzYgH79+mnb33jjDSQmJmLv3r0669+6dQt16tSBXP7Pcy81Gg1EUYRcLscff/yBZ599tszvqNVqqNVq7ev8/Hx4eHgY9TUEREQAcPn6HXwTcx7bTtyfOsZULmBwsCcmdG3EOQRJ7/AaQAMJgMD9m0ACAwMRFRWlbfP398eLL75Y5iYQjUaDM2fO6LRFRUXhr7/+ws8//wxvb29YWVk99jfZgYiIdJ1Mz8NXvycj9kIOAEBhcv/awfDODVHPRiFxdUT3cfwGDGZGz4iICAwbNgxBQUEICQnBDz/8gNTUVISHhwMApk2bhoyMDKxYsQIymQwBAQE6n3d0dIS5uXmZdiIiqrhm7kqsHNMWcZdyMPuP8zh29SaW7k/BmsOpGN7eC+OeaQh7KzOpyyQyegYTAAcOHIjc3FzMmjULKpUKAQEB2L59O7y8vAAAKpXqsXMCEhFR1Wjf0AEh4XWx70IOZv9xDknpeVi09zJWHbyKUR288WqnBlBamkpdJpHRMphTwFLgIWQioscTRRF/JWdjdsx5nM68f5ewjbkJxnZsgFEd68PWnEGQahbHbwbASmEHIiKqOFEU8fvpa/g25jzOXbsNAFBamOK1ZxpgZPv6sOJzhqmGcPxmAKwUdiAioien0YjYdlKFOX+ex6XrdwEA9lZmCO/cAEPbecHSjEGQqhfHbwbASmEHIiJ6eqUaEVuSMvDdnxdw5e95A+2tzDC2kzeGh9SHNY8IUjXh+M0AWCnsQERElVdSqsEvCRn4fvdFXP07CCotTDGmozdGtK8PpQWvEaSqxfGbAbBS2IGIiKpOSakGW5IyMX/3RVz++9SwjcIEozrUx+iO3rCz5PQxVDU4fjMAVgo7EBFR1Sv9+xrBebsu4EL2HQCAlZkcw9vXx9iO3qhrzQmlqXI4fjMAVgo7EBFR9dFoRPx+Ogtz/7qIs6r708dYmMoxtJ0nXn2mARxt+Ig5ejocvxkAK4UdiIio+omiiD/PZmPeXxdwIj0PwP1HzA0O9sRrzzSAq52FxBVSbcPxmwGwUtiBiIhqjiiK2HP+OubuuoCE1FsAABOZgL6t3BDeuSEaOVpLWyDVGhy/GQArhR2IiKjmiaKIAxdz8f3uizh4ORcAIAhAqL8TxndphBYedtIWSHqP4zcDYKWwAxERSet46k0s3HMJf5y5pm1r37AuXu/SEB0bOUAQBAmrI33F8ZsBsFLYgYiI9MOFa7excO9l/JqYgRLN/WGtmZsSr3dpiO5NnSGXMQjSPzh+MwBWCjsQEZF+Sb9ZgCWxKVh3NBWFxRoAQAMHK4zr3AB9W7lBYSKXuELSBxy/GQArhR2IiEg/5d5R48e4K/jx4FXk3SsGADjZKjCmozcGBXvC1pxPFzFmHL8ZACuFHYiISL/dUZdg7eFULNl/Gdfy1QAAa4UJBgd7YFQHb04hY6Q4fjMAVgo7EBFR7aAuKcXmhAwsjk3Bxb+fLiKXCejV3AWvdmqAADelxBVSTeL4zQBYKexARES1i0YjYu/56/hh32XtFDIAENKgLl59xhtdmjhCxhtGDB7HbwbASmEHIiKqvU5l5GFx7GVsPaFC6d93DjdytMbYjt7o28oN5qa8YcRQcfxmAKwUdiAiotov49Y9LD+QgrVH0nBHXQIAcLA2w4iQ+hjazgt1rMwkrpCqGsdvBsBKYQciIjIc+YXFWH8kDcsOpCAzrxAAYG4qQ//W7hjVvj4aO9lIXCFVFY7fDICVwg5ERGR4iks12H5ShcWxl3EqI1/b3qmxA0a2r4+uPrxOsLbj+M0AWCnsQEREhksURRxOuYFlB1IQc+Ya/r5MEF51LTEipD5eDnKHDecTrJU4fjMAVgo7EBGRcUi7UYCVh65i3ZFU5Bfev07QWmGC/wW6Y0T7+vB2sJK4QnoSHL8ZACuFHYiIyLgUFJXgl+MZWB53RTufoCAAXX0cMapDfXRs5ABB4OlhfcfxmwGwUtiBiIiMkyiK2H8xB8sOXMFfydna9kaO1hjZvj76tXKDlcJEwgrpUTh+MwBWCjsQERGl5NzFj3FXsOFYGu4WlQIAbBQmeCnQHUPbeaKRI+8e1jccvxkAK4UdiIiIHrhdWIwNx9Kx4uAVXMkt0LaHNKiLYSFeeN7fCaZymYQV0gMcvxkAK4UdiIiI/kujEXHgUg5WHryKP8/+c/ewo40Cg4M9MTjYE85Kc2mLNHIcvxkAK4UdiIiIHiXz1j2sPZKKtUfSkHNHDQCQywQ87+eEYSFeaN+wLm8akQDHbwbASmEHIiKiiigq0eD301lYeegqjqTc0LY3qGeFoW298FKgO5QWnFOwpnD8ZgCsFHYgIiJ6UueybmPVoav45Xi69qYRc1MZ+rRwxeBgT7T0sONRwWrG8ZsBsFLYgYiI6GndUZdgU0IGVh28inPXbmvbfZ1tMKiNB/q1cofSkkcFqwPHbwbASmEHIiKiyhJFEUev3MS6I6nYdlIFdYkGAKAwkeGFZi4YFOyJNvXr8KhgFeL4zQBYKexARERUlfIKirEpIR3rjqYhOeufo4IN61lhcLAn+rd2h72VmYQVGgaO3wyAlcIORERE1UEURSSm3cLaI6n4LUmFe8X3rxU0k8vQPcAZg4M9ENKAdxA/LY7fgEHNSBkVFQVvb2+Ym5sjMDAQsbGxD113//796NChA+rWrQsLCwv4+vri22+/rcFqiYiIyicIAlp51sFX/2uBI9O74bN+AQhws0VRqQa/JWXilcWH0fX/9mDBnku4ll8odblUCxnMEcD169dj2LBhiIqKQocOHbBo0SIsWbIEZ86cgaenZ5n1ExISkJycjObNm8PKygr79+/HuHHj8O233+K1116r0G/yLwgiIqpJpzLysPZIKn5NzMQddQkAQCYAnZvUw8tBHujm5wiFiVziKvUfx28DCoBt27ZF69atsWDBAm2bn58f+vbti8jIyAp9R//+/WFlZYWVK1dWaH12ICIiksJddQm2nVDhp2NpOHb1prbdztIUfVu64X+B7mjqastTxA/B8RswkbqAqlBUVIT4+Hi89957Ou2hoaGIi4ur0HckJCQgLi4On3766UPXUavVUKvV2tf5+flPVzAREVElWClMMKCNBwa08cDl63fwc3w6Nh5Px7V8NZbHXcHyuCvwdbbBy0Ee6NvSFXWtFVKXTHrGIK4BzMnJQWlpKZycnHTanZyckJWV9cjPuru7Q6FQICgoCBMmTMDYsWMfum5kZCSUSqV28fDwqJL6iYiInlaDetZ4p4cv4t7rhuWj2uCF5i4wk8uQnHUbn2w9g7af78K4lcfw55lrKC7VSF0u6QmDOAL4wH8PdYui+NjD37Gxsbhz5w4OHTqE9957D40aNcLgwYPLXXfatGmIiIjQvs7Pz2cIJCIivSCXCeji44guPo64VVCELUmZ2HAsHScz8vD76Wv4/fQ1OFgr0K+VK/4X6AEfZxupSyYJGUQAdHBwgFwuL3O0Lzs7u8xRwf/y9vYGADRr1gzXrl3Dxx9//NAAqFAooFDwMDoREek3O0szDA+pj+Eh9ZGclY8Nx9KxOSEDOXfUWBybgsWxKfB3sUW/Vm54saUrHG3NpS6ZaphBnAI2MzNDYGAgYmJidNpjYmLQvn37Cn+PKIo61/gRERHVdr7Otviwlz8Ovd8NPwwLxPP+TjCVCzijysdn28+iXeQuDFt6+P6zif++s5gMn0EcAQSAiIgIDBs2DEFBQQgJCcEPP/yA1NRUhIeHA7h/+jYjIwMrVqwAAHz//ffw9PSEr68vgPvzAv7f//0fJk2aJNk2EBERVRdTuQyhTZ0R2tQZN+8WYetJFTYdT8fx1FuIvZCD2As5sDA9he5NndC3lRs6NnKAidwgjhNROQwmAA4cOBC5ubmYNWsWVCoVAgICsH37dnh5eQEAVCoVUlNTtetrNBpMmzYNKSkpMDExQcOGDfHFF19g3LhxUm0CERFRjahjZYZh7bwwrJ0XrubexeaETGxKSMeV3AJsTszE5sRMOFgr0KeFK/q3duOUMgbIYOYBlALnESIiIkPx4PFzmxIy8FtSJm4WFGvfa+xojb5/Xy/oXsdSwiqrBsdvBsBKYQciIiJDVFSiwb7z17EpMQMxZ66hqOSf6WMCveqgd3MX9GzuAkeb2nnzCMdvBsBKYQciIiJDl19YjJ0ns/BLQjoOp9zAg9QgE4CQhnXRu7kregQ4w87STNpCnwDHbwbASmEHIiIiY3ItvxDbTqiwJSkTiWm3tO2mcgHPNK6H3i1c8Zy/E6wV+n2LAcdvBsBKYQciIiJjlXajAL+dyMRvSSqcVf3zaFSFiQzd/BzRu7kruvo6wtxULmGV5eP4zQBYKexAREREwIVrt/HbCRV+S8pESs5dbbu1wgSh/k7o1cIFHRvVg5mJfkwrw/GbAbBS2IGIiIj+IYoiTmfm47ekTPyWlInMvELtezbmJnjezwk9m7mgY2MHSY8McvxmAKwUdiAiIqLyaTQiEtJuYktiJrafysL12/88actaYYJufo4IC3BBF596NR4GOX4zAFYKOxAREdHjlWpEHE+9iW0nVNh5KgtZ+f8cGbQ0k+NZX0f0bHY/DFqaVf8NJBy/GQArhR2IiIjoydw/MngLO06qsONUFjJu3dO+Z24qQ1cfR4Q1c8Gzvo7Vdjcxx28GwEphByIiInp6oigiKT0PO06qsP2UCmk3/gmDChMZOjeph0HBHnjW16lKf5fjtwE9C5iIiIhqF0EQ0NLDDi097PBemC9OZ+Zj+0kVtp9U4UpuAf44cw1NnGyqPAASAyARERHpAUEQEOCmRICbElO7++Cs6jZ2nFKhdwtXqUszSAyAREREpFcEQYC/qy38XY3z9GxN0I8ZGYmIiIioxjAAEhERERkZBkAiIiIiI8MASERERGRkGACJiIiIjAwDIBEREZGRYQAkIiIiMjIMgERERERGhgGQiIiIyMgwABIREREZGQZAIiIiIiPDAEhERERkZBgAiYiIiIyMidQF1GaiKAIA8vPzJa6EiIiIKurBuP1gHDdGDICVcPv2bQCAh4eHxJUQERHRk7p9+zaUSqXUZUhCEI05/laSRqNBZmYmbGxsIAhClX53fn4+PDw8kJaWBltb2yr9bkPDfVVx3FcVx31VcdxXFcd9VXHVua9EUcTt27fh6uoKmcw4r4bjEcBKkMlkcHd3r9bfsLW15f8kKoj7quK4ryqO+6riuK8qjvuq4qprXxnrkb8HjDP2EhERERkxBkAiIiIiI8MAqKcUCgVmzJgBhUIhdSl6j/uq4rivKo77quK4ryqO+6riuK+qF28CISIiIjIyPAJIREREZGQYAImIiIiMDAMgERERkZFhACQiIiIyMgyAeigqKgre3t4wNzdHYGAgYmNjpS6pWn388ccQBEFncXZ21r4viiI+/vhjuLq6wsLCAl26dMHp06d1vkOtVmPSpElwcHCAlZUV+vTpg/T0dJ11bt68iWHDhkGpVEKpVGLYsGG4detWTWziU9u3bx969+4NV1dXCIKAzZs367xfk/smNTUVvXv3hpWVFRwcHDB58mQUFRVVx2Y/lcftq5EjR5bpZ+3atdNZx1j2VWRkJNq0aQMbGxs4Ojqib9++OHfunM467Fv3VWRfsW/dt2DBAjRv3lw7cXNISAh27NihfZ99Ss+IpFfWrVsnmpqaiosXLxbPnDkjvvHGG6KVlZV49epVqUurNjNmzBCbNm0qqlQq7ZKdna19/4svvhBtbGzEjRs3iidPnhQHDhwouri4iPn5+dp1wsPDRTc3NzEmJkY8fvy42LVrV7FFixZiSUmJdp0ePXqIAQEBYlxcnBgXFycGBASIvXr1qtFtfVLbt28Xp0+fLm7cuFEEIG7atEnn/ZraNyUlJWJAQIDYtWtX8fjx42JMTIzo6uoqTpw4sdr3QUU9bl+NGDFC7NGjh04/y83N1VnHWPZV9+7dxWXLlomnTp0SExMTxRdeeEH09PQU79y5o12Hfeu+iuwr9q37tmzZIm7btk08d+6ceO7cOfH9998XTU1NxVOnTomiyD6lbxgA9UxwcLAYHh6u0+br6yu+9957ElVU/WbMmCG2aNGi3Pc0Go3o7OwsfvHFF9q2wsJCUalUigsXLhRFURRv3bolmpqaiuvWrdOuk5GRIcpkMnHnzp2iKIrimTNnRADioUOHtOscPHhQBCAmJydXw1ZVvf+GmprcN9u3bxdlMpmYkZGhXWft2rWiQqEQ8/LyqmV7K+NhAfDFF1986GeMdV+JoihmZ2eLAMS9e/eKosi+9Sj/3VeiyL71KHXq1BGXLFnCPqWHeApYjxQVFSE+Ph6hoaE67aGhoYiLi5Ooqppx4cIFuLq6wtvbG4MGDcLly5cBACkpKcjKytLZJwqFAp07d9buk/j4eBQXF+us4+rqioCAAO06Bw8ehFKpRNu2bbXrtGvXDkqlstbu25rcNwcPHkRAQABcXV2163Tv3h1qtRrx8fHVup1Vac+ePXB0dESTJk3w6quvIjs7W/ueMe+rvLw8AIC9vT0A9q1H+e++eoB9S1dpaSnWrVuHu3fvIiQkhH1KDzEA6pGcnByUlpbCyclJp93JyQlZWVkSVVX92rZtixUrVuD333/H4sWLkZWVhfbt2yM3N1e73Y/aJ1lZWTAzM0OdOnUeuY6jo2OZ33Z0dKy1+7Ym901WVlaZ36lTpw7MzMxqzf4LCwvD6tWr8ddff+Gbb77B0aNH8eyzz0KtVgMw3n0liiIiIiLQsWNHBAQEAGDfepjy9hXAvvVvJ0+ehLW1NRQKBcLDw7Fp0yb4+/uzT+khE6kLoLIEQdB5LYpimTZDEhYWpv3nZs2aISQkBA0bNsSPP/6ovZD6afbJf9cpb31D2Lc1tW9q+/4bOHCg9p8DAgIQFBQELy8vbNu2Df3793/o5wx9X02cOBEnTpzA/v37y7zHvqXrYfuKfesfPj4+SExMxK1bt7Bx40aMGDECe/fu1b7PPqU/eARQjzg4OEAul5f5CyU7O7vMXzOGzMrKCs2aNcOFCxe0dwM/ap84OzujqKgIN2/efOQ6165dK/Nb169fr7X7tib3jbOzc5nfuXnzJoqLi2vt/nNxcYGXlxcuXLgAwDj31aRJk7Blyxbs3r0b7u7u2nb2rbIetq/KY8x9y8zMDI0aNUJQUBAiIyPRokULfPfdd+xTeogBUI+YmZkhMDAQMTExOu0xMTFo3769RFXVPLVajbNnz8LFxQXe3t5wdnbW2SdFRUXYu3evdp8EBgbC1NRUZx2VSoVTp05p1wkJCUFeXh6OHDmiXefw4cPIy8urtfu2JvdNSEgITp06BZVKpV3njz/+gEKhQGBgYLVuZ3XJzc1FWloaXFxcABjXvhJFERMnTsQvv/yCv/76C97e3jrvs2/943H7qjzG3Lf+SxRFqNVq9il9VEM3m1AFPZgGZunSpeKZM2fEKVOmiFZWVuKVK1ekLq3avPXWW+KePXvEy5cvi4cOHRJ79eol2tjYaLf5iy++EJVKpfjLL7+IJ0+eFAcPHlzu1AHu7u7in3/+KR4/flx89tlny506oHnz5uLBgwfFgwcPis2aNdP7aWBu374tJiQkiAkJCSIAcfbs2WJCQoJ2WqCa2jcPplXo1q2bePz4cfHPP/8U3d3d9WpahUftq9u3b4tvvfWWGBcXJ6akpIi7d+8WQ0JCRDc3N6PcV6+//rqoVCrFPXv26ExdUlBQoF2Hfeu+x+0r9q1/TJs2Tdy3b5+YkpIinjhxQnz//fdFmUwm/vHHH6Iosk/pGwZAPfT999+LXl5eopmZmdi6dWud6QYM0YO5oExNTUVXV1exf//+4unTp7XvazQaccaMGaKzs7OoUCjEZ555Rjx58qTOd9y7d0+cOHGiaG9vL1pYWIi9evUSU1NTddbJzc0VhwwZItrY2Ig2NjbikCFDxJs3b9bEJj613bt3iwDKLCNGjBBFsWb3zdWrV8UXXnhBtLCwEO3t7cWJEyeKhYWF1bn5T+RR+6qgoEAMDQ0V69WrJ5qamoqenp7iiBEjyuwHY9lX5e0nAOKyZcu067Bv3fe4fcW+9Y/Ro0drx6569eqJ3bp104Y/UWSf0jeCKIpizR1vJCIiIiKp8RpAIiIiIiPDAEhERERkZBgAiYiIiIwMAyARERGRkWEAJCIiIjIyDIBERERERoYBkIiIiMjIMAASkdH6+OOP0bJlS6nLICKqcZwImogMkiAIj3x/xIgRmD9/PtRqNerWrVtDVRER6QcGQCIySFlZWdp/Xr9+PT766COcO3dO22ZhYQGlUilFaUREkuMpYCIySM7OztpFqVRCEIQybf89BTxy5Ej07dsXn3/+OZycnGBnZ4eZM2eipKQEU6dOhb29Pdzd3REdHa3zWxkZGRg4cCDq1KmDunXr4sUXX8SVK1dqdoOJiJ4AAyAR0b/89ddfyMzMxL59+zB79mx8/PHH6NWrF+rUqYPDhw8jPDwc4eHhSEtLAwAUFBSga9eusLa2xr59+7B//35YW1ujR48eKCoqknhriIjKxwBIRPQv9vb2mDt3Lnx8fDB69Gj4+PigoKAA77//Pho3boxp06bBzMwMBw4cAACsW7cOMpkMS5YsQbNmzeDn54dly5YhNTUVe/bskXZjiIgewkTqAoiI9EnTpk0hk/3zt7GTkxMCAgK0r+VyOerWrYvs7GwAQHx8PC5evAgbGxud7yksLMSlS5dqpmgioifEAEhE9C+mpqY6rwVBKLdNo9EAADQaDQIDA7F69eoy31WvXr3qK5SIqBIYAImIKqF169ZYv349HB0dYWtrK3U5REQVwmsAiYgqYciQIXBwcMCLL76I2NhYpKSkYO/evXjjjTeQnp4udXlEROViACQiqgRLS0vs27cPnp6e6N+/P/z8/DB69Gjcu3ePRwSJSG9xImgiIiIiI8MjgERERERGhgGQiIiIyMgwABIREREZGQZAIiIiIiPDAEhERERkZBgAiYiIiIwMAyARERGRkWEAJCIiIjIyDIBERERERoYBkIiIiMjIMAASERERGRkGQCIiIiIj8/+zwh32mJhmsQAAAABJRU5ErkJggg==' width=640.0/>\n",
       "            </div>\n",
       "        "
      ],
      "text/plain": [
       "Canvas(toolbar=Toolbar(toolitems=[('Home', 'Reset original view', 'home', 'home'), ('Back', 'Back to previous …"
      ]
     },
     "metadata": {},
     "output_type": "display_data"
    },
    {
     "data": {
      "application/vnd.jupyter.widget-view+json": {
       "model_id": "aabaf72704a84b75b0405c81120ca304",
       "version_major": 2,
       "version_minor": 0
      },
      "image/png": "[encoded data removed]",
      "text/html": [
       "\n",
       "            <div style=\"display: inline-block;\">\n",
       "                <div class=\"jupyter-widgets widget-label\" style=\"text-align: center;\">\n",
       "                    Figure\n",
       "                </div>\n",
       "                <img src='data:image/png;base64,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' width=640.0/>\n",
       "            </div>\n",
       "        "
      ],
      "text/plain": [
       "Canvas(toolbar=Toolbar(toolitems=[('Home', 'Reset original view', 'home', 'home'), ('Back', 'Back to previous …"
      ]
     },
     "metadata": {},
     "output_type": "display_data"
    }
   ],
   "source": [
    "# Plot the rewards vs time\n",
    "\n",
    "rewards_vs_time = pd.DataFrame(dictList)\n",
    "\n",
    "# Create the plot\n",
    "%matplotlib widget\n",
    "plt.ion()\n",
    "\n",
    "# Plot the rewards vs time\n",
    "rewards_vs_time.plot(x='Time', y='Reward', kind='line')\n",
    "# Set the title and labels\n",
    "plt.title('Episode Rewards vs Time')\n",
    "plt.xlabel('Time')\n",
    "plt.ylabel('Reward')\n",
    "\n",
    "# Plot the epsilon vs time\n",
    "rewards_vs_time.plot(x='Time', y='Epsilon', kind='line')\n",
    "# Set the title and labels\n",
    "plt.title('Epsilon vs Time')\n",
    "plt.xlabel('Time')\n",
    "plt.ylabel('Epsilon')\n",
    "\n",
    "# Show the plot\n",
    "plt.show()"
   ]
  },
  {
   "cell_type": "code",
   "execution_count": 128,
   "metadata": {},
   "outputs": [],
   "source": [
    "#np.save(\"Qtable_runner.npy\", Qtable_runner)"
   ]
  },
  {
   "cell_type": "code",
   "execution_count": 129,
   "metadata": {},
   "outputs": [
    {
     "name": "stderr",
     "output_type": "stream",
     "text": [
      "c:\\Users\\Prod\\miniconda3\\envs\\rl-lab-dev\\Lib\\site-packages\\gymnasium\\utils\\passive_env_checker.py:233: DeprecationWarning: `np.bool8` is a deprecated alias for `np.bool_`.  (Deprecated NumPy 1.24)\n",
      "  if not isinstance(terminated, (bool, np.bool8)):\n"
     ]
    }
   ],
   "source": [
    "# Visualize the agent\n",
    "env = gym.make(\"EndlessRunner-v0\", obstacle_x_bins=bins, render_mode=\"human\")\n",
    "env.reset()\n",
    "state, info = env.reset()\n",
    "step = 0\n",
    "terminated = False\n",
    "truncated = False\n",
    "while not terminated and not truncated:\n",
    "    action = greedy_policy(Qtable_runner, state)\n",
    "    state, reward, terminated, truncated, info = env.step(action)\n",
    "    step += 1\n",
    "    # print(\"Step: \", step)\n",
    "    # print(\"Action: \", action)\n",
    "    # print(\"State: \", state)\n",
    "    # print(\"Reward: \", reward)\n",
    "    # print(\"Info: \", info)\n",
    "    env.render()\n",
    "#env.close()"
   ]
  },
  {
   "cell_type": "code",
   "execution_count": 130,
   "metadata": {},
   "outputs": [],
   "source": [
    "env.close()"
   ]
  }
 ],
 "metadata": {
  "kernelspec": {
   "display_name": "rl-lab-dev",
   "language": "python",
   "name": "python3"
  },
  "language_info": {
   "codemirror_mode": {
    "name": "ipython",
    "version": 3
   },
   "file_extension": ".py",
   "mimetype": "text/x-python",
   "name": "python",
   "nbconvert_exporter": "python",
   "pygments_lexer": "ipython3",
   "version": "3.12.0"
  }
 },
 "nbformat": 4,
 "nbformat_minor": 2
}
